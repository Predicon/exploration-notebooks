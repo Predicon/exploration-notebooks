{
 "cells": [
  {
   "cell_type": "markdown",
   "metadata": {},
   "source": [
    "#### This notebook attempts to evaluate the merit of using the Bank Login score to identify \"good\" / \"bad\" customers.\n",
    "\n",
    "As the Bank Login score already accounts for a lot of factors (~6k attributes!) we will use the \"IsFirstDefault\" Parameter to judge its correlation with loan outcomes."
   ]
  },
  {
   "cell_type": "code",
   "execution_count": 628,
   "metadata": {},
   "outputs": [],
   "source": [
    "import pymysql\n",
    "import query\n",
    "import pandas as pd\n",
    "import seaborn as sns\n",
    "import sidetable"
   ]
  },
  {
   "cell_type": "code",
   "execution_count": 629,
   "metadata": {},
   "outputs": [],
   "source": [
    "df = pd.read_csv(\"/home/vishal/ftp_files_csv/bt_attr.csv\",usecols=[\"setting_app_id\",\"blp_score\"])"
   ]
  },
  {
   "cell_type": "code",
   "execution_count": 630,
   "metadata": {},
   "outputs": [
    {
     "data": {
      "text/html": [
       "<div>\n",
       "<style scoped>\n",
       "    .dataframe tbody tr th:only-of-type {\n",
       "        vertical-align: middle;\n",
       "    }\n",
       "\n",
       "    .dataframe tbody tr th {\n",
       "        vertical-align: top;\n",
       "    }\n",
       "\n",
       "    .dataframe thead th {\n",
       "        text-align: right;\n",
       "    }\n",
       "</style>\n",
       "<table border=\"1\" class=\"dataframe\">\n",
       "  <thead>\n",
       "    <tr style=\"text-align: right;\">\n",
       "      <th></th>\n",
       "      <th>setting_app_id</th>\n",
       "      <th>blp_score</th>\n",
       "    </tr>\n",
       "  </thead>\n",
       "  <tbody>\n",
       "    <tr>\n",
       "      <th>0</th>\n",
       "      <td>10660872622</td>\n",
       "      <td>298</td>\n",
       "    </tr>\n",
       "    <tr>\n",
       "      <th>1</th>\n",
       "      <td>10661291196</td>\n",
       "      <td>254</td>\n",
       "    </tr>\n",
       "    <tr>\n",
       "      <th>2</th>\n",
       "      <td>10662080444</td>\n",
       "      <td>295</td>\n",
       "    </tr>\n",
       "    <tr>\n",
       "      <th>3</th>\n",
       "      <td>10662493120</td>\n",
       "      <td>298</td>\n",
       "    </tr>\n",
       "    <tr>\n",
       "      <th>4</th>\n",
       "      <td>10664419139</td>\n",
       "      <td>227</td>\n",
       "    </tr>\n",
       "  </tbody>\n",
       "</table>\n",
       "</div>"
      ],
      "text/plain": [
       "   setting_app_id  blp_score\n",
       "0     10660872622        298\n",
       "1     10661291196        254\n",
       "2     10662080444        295\n",
       "3     10662493120        298\n",
       "4     10664419139        227"
      ]
     },
     "execution_count": 630,
     "metadata": {},
     "output_type": "execute_result"
    }
   ],
   "source": [
    "df.head()"
   ]
  },
  {
   "cell_type": "code",
   "execution_count": 631,
   "metadata": {},
   "outputs": [],
   "source": [
    "scoredf=df.rename(columns={\"setting_app_id\": \"LoanId\", \"blp_score\": \"score\"})"
   ]
  },
  {
   "cell_type": "code",
   "execution_count": 632,
   "metadata": {},
   "outputs": [],
   "source": [
    "scoredf = scoredf.drop_duplicates()"
   ]
  },
  {
   "cell_type": "code",
   "execution_count": 633,
   "metadata": {},
   "outputs": [
    {
     "data": {
      "text/plain": [
       "(41768, 2)"
      ]
     },
     "execution_count": 633,
     "metadata": {},
     "output_type": "execute_result"
    }
   ],
   "source": [
    "scoredf.shape"
   ]
  },
  {
   "cell_type": "markdown",
   "metadata": {},
   "source": [
    "### Query the DB in the date range '2019-01-01' - '2020-04-30'"
   ]
  },
  {
   "cell_type": "code",
   "execution_count": 634,
   "metadata": {},
   "outputs": [],
   "source": [
    "dbquerydf = query.iloans(\"SELECT * FROM view_FCL_Loan WHERE OriginationDate between '2019-01-01' AND '2020-04-30'\")"
   ]
  },
  {
   "cell_type": "code",
   "execution_count": 635,
   "metadata": {},
   "outputs": [],
   "source": [
    "dbdf=dbquerydf[[\"LoanId\",\"IsFirstDefault\"]]"
   ]
  },
  {
   "cell_type": "code",
   "execution_count": 636,
   "metadata": {},
   "outputs": [],
   "source": [
    "view_df = pd.merge(scoredf, dbdf, how ='left', on ='LoanId') "
   ]
  },
  {
   "cell_type": "code",
   "execution_count": 637,
   "metadata": {},
   "outputs": [
    {
     "name": "stdout",
     "output_type": "stream",
     "text": [
      "<class 'pandas.core.frame.DataFrame'>\n",
      "Int64Index: 41768 entries, 0 to 41767\n",
      "Data columns (total 3 columns):\n",
      "LoanId            41768 non-null int64\n",
      "score             41768 non-null int64\n",
      "IsFirstDefault    3859 non-null object\n",
      "dtypes: int64(2), object(1)\n",
      "memory usage: 1.3+ MB\n"
     ]
    }
   ],
   "source": [
    "view_df.info()"
   ]
  },
  {
   "cell_type": "code",
   "execution_count": 638,
   "metadata": {},
   "outputs": [
    {
     "data": {
      "text/html": [
       "<div>\n",
       "<style scoped>\n",
       "    .dataframe tbody tr th:only-of-type {\n",
       "        vertical-align: middle;\n",
       "    }\n",
       "\n",
       "    .dataframe tbody tr th {\n",
       "        vertical-align: top;\n",
       "    }\n",
       "\n",
       "    .dataframe thead th {\n",
       "        text-align: right;\n",
       "    }\n",
       "</style>\n",
       "<table border=\"1\" class=\"dataframe\">\n",
       "  <thead>\n",
       "    <tr style=\"text-align: right;\">\n",
       "      <th></th>\n",
       "      <th>LoanId</th>\n",
       "      <th>score</th>\n",
       "      <th>IsFirstDefault</th>\n",
       "    </tr>\n",
       "  </thead>\n",
       "  <tbody>\n",
       "    <tr>\n",
       "      <th>0</th>\n",
       "      <td>10660872622</td>\n",
       "      <td>298</td>\n",
       "      <td>NaN</td>\n",
       "    </tr>\n",
       "    <tr>\n",
       "      <th>1</th>\n",
       "      <td>10661291196</td>\n",
       "      <td>254</td>\n",
       "      <td>NaN</td>\n",
       "    </tr>\n",
       "    <tr>\n",
       "      <th>2</th>\n",
       "      <td>10662080444</td>\n",
       "      <td>295</td>\n",
       "      <td>NaN</td>\n",
       "    </tr>\n",
       "    <tr>\n",
       "      <th>3</th>\n",
       "      <td>10662493120</td>\n",
       "      <td>298</td>\n",
       "      <td>False</td>\n",
       "    </tr>\n",
       "    <tr>\n",
       "      <th>4</th>\n",
       "      <td>10664419139</td>\n",
       "      <td>227</td>\n",
       "      <td>NaN</td>\n",
       "    </tr>\n",
       "  </tbody>\n",
       "</table>\n",
       "</div>"
      ],
      "text/plain": [
       "        LoanId  score IsFirstDefault\n",
       "0  10660872622    298            NaN\n",
       "1  10661291196    254            NaN\n",
       "2  10662080444    295            NaN\n",
       "3  10662493120    298          False\n",
       "4  10664419139    227            NaN"
      ]
     },
     "execution_count": 638,
     "metadata": {},
     "output_type": "execute_result"
    }
   ],
   "source": [
    "view_df.head()"
   ]
  },
  {
   "cell_type": "markdown",
   "metadata": {},
   "source": [
    "### Get Lender Approved Loans Data"
   ]
  },
  {
   "cell_type": "code",
   "execution_count": 639,
   "metadata": {},
   "outputs": [],
   "source": [
    "query_lender_approved='''\n",
    "select LoanId, \n",
    "LoanPrincipal AS ApprovedLoanAmount,\n",
    "LoanStatus AS LenderApproved \n",
    "from view_FCL_Loan_History\n",
    "where LoanStatus = 'Lender Approved' \n",
    "and TimeAdded >= '2019-01-01'\n",
    "AND TimeAdded <= '2020-04-30'\n",
    "ORDER BY LoanId , TimeAdded DESC\n",
    "'''"
   ]
  },
  {
   "cell_type": "code",
   "execution_count": 640,
   "metadata": {},
   "outputs": [],
   "source": [
    "dblender_approved_df = query.iloans(query_lender_approved)"
   ]
  },
  {
   "cell_type": "markdown",
   "metadata": {},
   "source": [
    "This query returns duplicate IDs. Drop them!"
   ]
  },
  {
   "cell_type": "code",
   "execution_count": 641,
   "metadata": {},
   "outputs": [],
   "source": [
    "dblender_approved_df = dblender_approved_df.drop_duplicates()"
   ]
  },
  {
   "cell_type": "markdown",
   "metadata": {},
   "source": [
    "#### Get funded loans in the date range"
   ]
  },
  {
   "cell_type": "code",
   "execution_count": 642,
   "metadata": {},
   "outputs": [],
   "source": [
    "query_funded_loans ='''\n",
    "SELECT \n",
    "    LoanId,\n",
    "    (CASE WHEN LoanId IS NOT NULL THEN 1 ELSE 0 END) AS IsFunded\n",
    "    FROM\n",
    "    view_FCL_Loan \n",
    "    WHERE LeadTimeAdded >= '2019-01-01'\n",
    "    AND LeadTimeAdded <= '2020-04-30'\n",
    "    AND MerchantId IN (15,18)\n",
    "'''"
   ]
  },
  {
   "cell_type": "code",
   "execution_count": 643,
   "metadata": {},
   "outputs": [],
   "source": [
    "fundedloansdf = query.iloans(query_funded_loans)"
   ]
  },
  {
   "cell_type": "code",
   "execution_count": 644,
   "metadata": {},
   "outputs": [
    {
     "name": "stdout",
     "output_type": "stream",
     "text": [
      "<class 'pandas.core.frame.DataFrame'>\n",
      "RangeIndex: 12200 entries, 0 to 12199\n",
      "Data columns (total 2 columns):\n",
      "LoanId      12200 non-null float64\n",
      "IsFunded    12200 non-null int64\n",
      "dtypes: float64(1), int64(1)\n",
      "memory usage: 190.7 KB\n"
     ]
    }
   ],
   "source": [
    "fundedloansdf.info()"
   ]
  },
  {
   "cell_type": "markdown",
   "metadata": {},
   "source": [
    "### Bin Data by Deciles and Remap LenderApproved to 0's/1's"
   ]
  },
  {
   "cell_type": "code",
   "execution_count": 645,
   "metadata": {},
   "outputs": [],
   "source": [
    "view2_df = pd.merge(view_df, dblender_approved_df, how ='left', on ='LoanId')\n",
    "view2_df = pd.merge(view2_df, fundedloansdf, how ='left', on ='LoanId')\n",
    "view2_df[\"IsFirstDefault\"]*=1\n",
    "view2_df['Decile_rank'] = pd.qcut(view2_df['score'], 10,labels = False) \n",
    "view2_df['ApprovedLoanAmount'] = view2_df['ApprovedLoanAmount'].fillna(0)\n",
    "view2_df[\"LenderApproved\"] = view2_df[\"LenderApproved\"].replace(to_replace =\"Lender Approved\", value =1) \n",
    "view2_df[\"LenderApproved\"] = view2_df[\"LenderApproved\"].fillna(0)"
   ]
  },
  {
   "cell_type": "code",
   "execution_count": 646,
   "metadata": {},
   "outputs": [
    {
     "data": {
      "text/html": [
       "<div>\n",
       "<style scoped>\n",
       "    .dataframe tbody tr th:only-of-type {\n",
       "        vertical-align: middle;\n",
       "    }\n",
       "\n",
       "    .dataframe tbody tr th {\n",
       "        vertical-align: top;\n",
       "    }\n",
       "\n",
       "    .dataframe thead th {\n",
       "        text-align: right;\n",
       "    }\n",
       "</style>\n",
       "<table border=\"1\" class=\"dataframe\">\n",
       "  <thead>\n",
       "    <tr style=\"text-align: right;\">\n",
       "      <th></th>\n",
       "      <th>LoanId</th>\n",
       "      <th>score</th>\n",
       "      <th>IsFirstDefault</th>\n",
       "      <th>ApprovedLoanAmount</th>\n",
       "      <th>LenderApproved</th>\n",
       "      <th>IsFunded</th>\n",
       "      <th>Decile_rank</th>\n",
       "    </tr>\n",
       "  </thead>\n",
       "  <tbody>\n",
       "    <tr>\n",
       "      <th>0</th>\n",
       "      <td>10660872622</td>\n",
       "      <td>298</td>\n",
       "      <td>NaN</td>\n",
       "      <td>0.0</td>\n",
       "      <td>0.0</td>\n",
       "      <td>NaN</td>\n",
       "      <td>9</td>\n",
       "    </tr>\n",
       "    <tr>\n",
       "      <th>1</th>\n",
       "      <td>10661291196</td>\n",
       "      <td>254</td>\n",
       "      <td>NaN</td>\n",
       "      <td>0.0</td>\n",
       "      <td>0.0</td>\n",
       "      <td>NaN</td>\n",
       "      <td>0</td>\n",
       "    </tr>\n",
       "    <tr>\n",
       "      <th>2</th>\n",
       "      <td>10662080444</td>\n",
       "      <td>295</td>\n",
       "      <td>NaN</td>\n",
       "      <td>0.0</td>\n",
       "      <td>0.0</td>\n",
       "      <td>NaN</td>\n",
       "      <td>7</td>\n",
       "    </tr>\n",
       "    <tr>\n",
       "      <th>3</th>\n",
       "      <td>10662493120</td>\n",
       "      <td>298</td>\n",
       "      <td>0</td>\n",
       "      <td>300.0</td>\n",
       "      <td>1.0</td>\n",
       "      <td>1.0</td>\n",
       "      <td>9</td>\n",
       "    </tr>\n",
       "    <tr>\n",
       "      <th>4</th>\n",
       "      <td>10664419139</td>\n",
       "      <td>227</td>\n",
       "      <td>NaN</td>\n",
       "      <td>0.0</td>\n",
       "      <td>0.0</td>\n",
       "      <td>NaN</td>\n",
       "      <td>0</td>\n",
       "    </tr>\n",
       "  </tbody>\n",
       "</table>\n",
       "</div>"
      ],
      "text/plain": [
       "        LoanId  score IsFirstDefault  ApprovedLoanAmount  LenderApproved  \\\n",
       "0  10660872622    298            NaN                 0.0             0.0   \n",
       "1  10661291196    254            NaN                 0.0             0.0   \n",
       "2  10662080444    295            NaN                 0.0             0.0   \n",
       "3  10662493120    298              0               300.0             1.0   \n",
       "4  10664419139    227            NaN                 0.0             0.0   \n",
       "\n",
       "   IsFunded  Decile_rank  \n",
       "0       NaN            9  \n",
       "1       NaN            0  \n",
       "2       NaN            7  \n",
       "3       1.0            9  \n",
       "4       NaN            0  "
      ]
     },
     "execution_count": 646,
     "metadata": {},
     "output_type": "execute_result"
    }
   ],
   "source": [
    "view2_df.head()"
   ]
  },
  {
   "cell_type": "code",
   "execution_count": 647,
   "metadata": {},
   "outputs": [
    {
     "data": {
      "text/html": [
       "<div>\n",
       "<style scoped>\n",
       "    .dataframe tbody tr th:only-of-type {\n",
       "        vertical-align: middle;\n",
       "    }\n",
       "\n",
       "    .dataframe tbody tr th {\n",
       "        vertical-align: top;\n",
       "    }\n",
       "\n",
       "    .dataframe thead th {\n",
       "        text-align: right;\n",
       "    }\n",
       "</style>\n",
       "<table border=\"1\" class=\"dataframe\">\n",
       "  <thead>\n",
       "    <tr style=\"text-align: right;\">\n",
       "      <th></th>\n",
       "      <th>LoanId</th>\n",
       "      <th>score</th>\n",
       "      <th>ApprovedLoanAmount</th>\n",
       "      <th>LenderApproved</th>\n",
       "      <th>IsFunded</th>\n",
       "      <th>Decile_rank</th>\n",
       "    </tr>\n",
       "  </thead>\n",
       "  <tbody>\n",
       "    <tr>\n",
       "      <th>count</th>\n",
       "      <td>4.183400e+04</td>\n",
       "      <td>41834.000000</td>\n",
       "      <td>41834.000000</td>\n",
       "      <td>41834.000000</td>\n",
       "      <td>3988.0</td>\n",
       "      <td>41834.000000</td>\n",
       "    </tr>\n",
       "    <tr>\n",
       "      <th>mean</th>\n",
       "      <td>5.310444e+10</td>\n",
       "      <td>282.720921</td>\n",
       "      <td>42.289755</td>\n",
       "      <td>0.120643</td>\n",
       "      <td>1.0</td>\n",
       "      <td>4.297246</td>\n",
       "    </tr>\n",
       "    <tr>\n",
       "      <th>std</th>\n",
       "      <td>2.584494e+10</td>\n",
       "      <td>22.499910</td>\n",
       "      <td>131.811567</td>\n",
       "      <td>0.325716</td>\n",
       "      <td>0.0</td>\n",
       "      <td>2.725292</td>\n",
       "    </tr>\n",
       "    <tr>\n",
       "      <th>min</th>\n",
       "      <td>1.066011e+10</td>\n",
       "      <td>108.000000</td>\n",
       "      <td>0.000000</td>\n",
       "      <td>0.000000</td>\n",
       "      <td>1.0</td>\n",
       "      <td>0.000000</td>\n",
       "    </tr>\n",
       "    <tr>\n",
       "      <th>25%</th>\n",
       "      <td>3.066918e+10</td>\n",
       "      <td>280.000000</td>\n",
       "      <td>0.000000</td>\n",
       "      <td>0.000000</td>\n",
       "      <td>1.0</td>\n",
       "      <td>2.000000</td>\n",
       "    </tr>\n",
       "    <tr>\n",
       "      <th>50%</th>\n",
       "      <td>5.166992e+10</td>\n",
       "      <td>290.000000</td>\n",
       "      <td>0.000000</td>\n",
       "      <td>0.000000</td>\n",
       "      <td>1.0</td>\n",
       "      <td>4.000000</td>\n",
       "    </tr>\n",
       "    <tr>\n",
       "      <th>75%</th>\n",
       "      <td>7.468185e+10</td>\n",
       "      <td>295.000000</td>\n",
       "      <td>0.000000</td>\n",
       "      <td>0.000000</td>\n",
       "      <td>1.0</td>\n",
       "      <td>7.000000</td>\n",
       "    </tr>\n",
       "    <tr>\n",
       "      <th>max</th>\n",
       "      <td>9.968366e+10</td>\n",
       "      <td>299.000000</td>\n",
       "      <td>5000.000000</td>\n",
       "      <td>1.000000</td>\n",
       "      <td>1.0</td>\n",
       "      <td>9.000000</td>\n",
       "    </tr>\n",
       "  </tbody>\n",
       "</table>\n",
       "</div>"
      ],
      "text/plain": [
       "             LoanId         score  ApprovedLoanAmount  LenderApproved  \\\n",
       "count  4.183400e+04  41834.000000        41834.000000    41834.000000   \n",
       "mean   5.310444e+10    282.720921           42.289755        0.120643   \n",
       "std    2.584494e+10     22.499910          131.811567        0.325716   \n",
       "min    1.066011e+10    108.000000            0.000000        0.000000   \n",
       "25%    3.066918e+10    280.000000            0.000000        0.000000   \n",
       "50%    5.166992e+10    290.000000            0.000000        0.000000   \n",
       "75%    7.468185e+10    295.000000            0.000000        0.000000   \n",
       "max    9.968366e+10    299.000000         5000.000000        1.000000   \n",
       "\n",
       "       IsFunded   Decile_rank  \n",
       "count    3988.0  41834.000000  \n",
       "mean        1.0      4.297246  \n",
       "std         0.0      2.725292  \n",
       "min         1.0      0.000000  \n",
       "25%         1.0      2.000000  \n",
       "50%         1.0      4.000000  \n",
       "75%         1.0      7.000000  \n",
       "max         1.0      9.000000  "
      ]
     },
     "execution_count": 647,
     "metadata": {},
     "output_type": "execute_result"
    }
   ],
   "source": [
    "view2_df.describe()"
   ]
  },
  {
   "cell_type": "code",
   "execution_count": 648,
   "metadata": {},
   "outputs": [
    {
     "name": "stdout",
     "output_type": "stream",
     "text": [
      "<class 'pandas.core.frame.DataFrame'>\n",
      "Int64Index: 41834 entries, 0 to 41833\n",
      "Data columns (total 7 columns):\n",
      "LoanId                41834 non-null int64\n",
      "score                 41834 non-null int64\n",
      "IsFirstDefault        3915 non-null object\n",
      "ApprovedLoanAmount    41834 non-null float64\n",
      "LenderApproved        41834 non-null float64\n",
      "IsFunded              3988 non-null float64\n",
      "Decile_rank           41834 non-null int64\n",
      "dtypes: float64(3), int64(3), object(1)\n",
      "memory usage: 2.6+ MB\n"
     ]
    }
   ],
   "source": [
    "view2_df.info()"
   ]
  },
  {
   "cell_type": "code",
   "execution_count": 649,
   "metadata": {},
   "outputs": [],
   "source": [
    "view2_df=view2_df.drop_duplicates()"
   ]
  },
  {
   "cell_type": "markdown",
   "metadata": {},
   "source": [
    "### Calculate Loans approved,First Defaults and Total Loans per Decile"
   ]
  },
  {
   "cell_type": "code",
   "execution_count": 650,
   "metadata": {},
   "outputs": [],
   "source": [
    "dropnaview2 = view2_df.dropna()\n",
    "sums1 = []\n",
    "sums = []\n",
    "counts = []\n",
    "fundedcounts = []\n",
    "for x in range(0,10):\n",
    "    sums.append(view2_df[view2_df[\"Decile_rank\"]==x].sum()[\"LenderApproved\"])\n",
    "    counts.append(view2_df[view2_df[\"Decile_rank\"]==x].count()[\"LenderApproved\"])\n",
    "    sums1.append(dropnaview2[dropnaview2[\"Decile_rank\"]==x].sum()[\"IsFirstDefault\"])\n",
    "    fundedcounts.append(dropnaview2[dropnaview2[\"Decile_rank\"]==x].sum()[\"IsFunded\"])"
   ]
  },
  {
   "cell_type": "code",
   "execution_count": 651,
   "metadata": {},
   "outputs": [],
   "source": [
    "deciledf = pd.DataFrame(list(zip(range(0,10),sums,sums1,counts,fundedcounts)), columns =['Decile','LenderApprovedCount','IsFirstDefaultCount','TotalLoansCount','TotalFunded']) "
   ]
  },
  {
   "cell_type": "markdown",
   "metadata": {},
   "source": [
    "### Calculate Percentage of Defaulters per Decile"
   ]
  },
  {
   "cell_type": "code",
   "execution_count": 652,
   "metadata": {},
   "outputs": [],
   "source": [
    "avg = []\n",
    "for x in range(0,10):\n",
    "    avg.append((deciledf['IsFirstDefaultCount'][x]/deciledf['TotalLoansCount'][x])*100)"
   ]
  },
  {
   "cell_type": "code",
   "execution_count": 653,
   "metadata": {},
   "outputs": [],
   "source": [
    "deciledf[\"PercentDefault\"]=avg"
   ]
  },
  {
   "cell_type": "code",
   "execution_count": 654,
   "metadata": {},
   "outputs": [
    {
     "data": {
      "text/html": [
       "<div>\n",
       "<style scoped>\n",
       "    .dataframe tbody tr th:only-of-type {\n",
       "        vertical-align: middle;\n",
       "    }\n",
       "\n",
       "    .dataframe tbody tr th {\n",
       "        vertical-align: top;\n",
       "    }\n",
       "\n",
       "    .dataframe thead th {\n",
       "        text-align: right;\n",
       "    }\n",
       "</style>\n",
       "<table border=\"1\" class=\"dataframe\">\n",
       "  <thead>\n",
       "    <tr style=\"text-align: right;\">\n",
       "      <th></th>\n",
       "      <th>Decile</th>\n",
       "      <th>LenderApprovedCount</th>\n",
       "      <th>IsFirstDefaultCount</th>\n",
       "      <th>TotalLoansCount</th>\n",
       "      <th>TotalFunded</th>\n",
       "      <th>PercentDefault</th>\n",
       "    </tr>\n",
       "  </thead>\n",
       "  <tbody>\n",
       "    <tr>\n",
       "      <th>0</th>\n",
       "      <td>0</td>\n",
       "      <td>604.0</td>\n",
       "      <td>418.0</td>\n",
       "      <td>4202</td>\n",
       "      <td>499.0</td>\n",
       "      <td>9.947644</td>\n",
       "    </tr>\n",
       "    <tr>\n",
       "      <th>1</th>\n",
       "      <td>1</td>\n",
       "      <td>236.0</td>\n",
       "      <td>11.0</td>\n",
       "      <td>4504</td>\n",
       "      <td>90.0</td>\n",
       "      <td>0.244227</td>\n",
       "    </tr>\n",
       "    <tr>\n",
       "      <th>2</th>\n",
       "      <td>2</td>\n",
       "      <td>265.0</td>\n",
       "      <td>14.0</td>\n",
       "      <td>4127</td>\n",
       "      <td>145.0</td>\n",
       "      <td>0.339229</td>\n",
       "    </tr>\n",
       "    <tr>\n",
       "      <th>3</th>\n",
       "      <td>3</td>\n",
       "      <td>362.0</td>\n",
       "      <td>9.0</td>\n",
       "      <td>4308</td>\n",
       "      <td>250.0</td>\n",
       "      <td>0.208914</td>\n",
       "    </tr>\n",
       "    <tr>\n",
       "      <th>4</th>\n",
       "      <td>4</td>\n",
       "      <td>516.0</td>\n",
       "      <td>13.0</td>\n",
       "      <td>4682</td>\n",
       "      <td>391.0</td>\n",
       "      <td>0.277659</td>\n",
       "    </tr>\n",
       "    <tr>\n",
       "      <th>5</th>\n",
       "      <td>5</td>\n",
       "      <td>496.0</td>\n",
       "      <td>27.0</td>\n",
       "      <td>3940</td>\n",
       "      <td>378.0</td>\n",
       "      <td>0.685279</td>\n",
       "    </tr>\n",
       "    <tr>\n",
       "      <th>6</th>\n",
       "      <td>6</td>\n",
       "      <td>702.0</td>\n",
       "      <td>28.0</td>\n",
       "      <td>4907</td>\n",
       "      <td>586.0</td>\n",
       "      <td>0.570613</td>\n",
       "    </tr>\n",
       "    <tr>\n",
       "      <th>7</th>\n",
       "      <td>7</td>\n",
       "      <td>924.0</td>\n",
       "      <td>34.0</td>\n",
       "      <td>5730</td>\n",
       "      <td>768.0</td>\n",
       "      <td>0.593368</td>\n",
       "    </tr>\n",
       "    <tr>\n",
       "      <th>8</th>\n",
       "      <td>8</td>\n",
       "      <td>451.0</td>\n",
       "      <td>17.0</td>\n",
       "      <td>2797</td>\n",
       "      <td>387.0</td>\n",
       "      <td>0.607794</td>\n",
       "    </tr>\n",
       "    <tr>\n",
       "      <th>9</th>\n",
       "      <td>9</td>\n",
       "      <td>491.0</td>\n",
       "      <td>9.0</td>\n",
       "      <td>2637</td>\n",
       "      <td>421.0</td>\n",
       "      <td>0.341297</td>\n",
       "    </tr>\n",
       "  </tbody>\n",
       "</table>\n",
       "</div>"
      ],
      "text/plain": [
       "   Decile  LenderApprovedCount  IsFirstDefaultCount  TotalLoansCount  \\\n",
       "0       0                604.0                418.0             4202   \n",
       "1       1                236.0                 11.0             4504   \n",
       "2       2                265.0                 14.0             4127   \n",
       "3       3                362.0                  9.0             4308   \n",
       "4       4                516.0                 13.0             4682   \n",
       "5       5                496.0                 27.0             3940   \n",
       "6       6                702.0                 28.0             4907   \n",
       "7       7                924.0                 34.0             5730   \n",
       "8       8                451.0                 17.0             2797   \n",
       "9       9                491.0                  9.0             2637   \n",
       "\n",
       "   TotalFunded  PercentDefault  \n",
       "0        499.0        9.947644  \n",
       "1         90.0        0.244227  \n",
       "2        145.0        0.339229  \n",
       "3        250.0        0.208914  \n",
       "4        391.0        0.277659  \n",
       "5        378.0        0.685279  \n",
       "6        586.0        0.570613  \n",
       "7        768.0        0.593368  \n",
       "8        387.0        0.607794  \n",
       "9        421.0        0.341297  "
      ]
     },
     "execution_count": 654,
     "metadata": {},
     "output_type": "execute_result"
    }
   ],
   "source": [
    "deciledf"
   ]
  },
  {
   "cell_type": "markdown",
   "metadata": {},
   "source": [
    "### Calculate Cumulative Fraction of Defaulters per Decile"
   ]
  },
  {
   "cell_type": "code",
   "execution_count": 655,
   "metadata": {},
   "outputs": [],
   "source": [
    "templist = []\n",
    "sum = 0\n",
    "for x in range(0,10):\n",
    "    sum += (deciledf[\"IsFirstDefaultCount\"][x]/deciledf[\"IsFirstDefaultCount\"].sum())*100\n",
    "    templist.append(sum)"
   ]
  },
  {
   "cell_type": "code",
   "execution_count": 676,
   "metadata": {},
   "outputs": [],
   "source": [
    "deciledf[\"CumulativePercent\"]= templist"
   ]
  },
  {
   "cell_type": "code",
   "execution_count": 677,
   "metadata": {},
   "outputs": [],
   "source": [
    "deciledf[\"LenderPercent\"]=(deciledf[\"LenderApprovedCount\"]/deciledf[\"TotalLoansCount\"])*100"
   ]
  },
  {
   "cell_type": "code",
   "execution_count": 678,
   "metadata": {},
   "outputs": [],
   "source": [
    "deciledf[\"FundedPercent\"]=(deciledf[\"TotalFunded\"]/deciledf[\"TotalLoansCount\"])*100"
   ]
  },
  {
   "cell_type": "code",
   "execution_count": 679,
   "metadata": {},
   "outputs": [],
   "source": [
    "testdeciledf=sorted(set(pd.qcut(view2_df['score'], 10,retbins= True)[0]))"
   ]
  },
  {
   "cell_type": "code",
   "execution_count": 680,
   "metadata": {},
   "outputs": [],
   "source": [
    "randomlist = [0,1,2,3,4,5,6,7,8,9]"
   ]
  },
  {
   "cell_type": "code",
   "execution_count": 681,
   "metadata": {},
   "outputs": [],
   "source": [
    "testdfdecile = pd.DataFrame(data = randomlist, columns = [\"Decile\"])"
   ]
  },
  {
   "cell_type": "code",
   "execution_count": 682,
   "metadata": {},
   "outputs": [],
   "source": [
    "testdfdecile[\"Bins\"] = testdeciledf"
   ]
  },
  {
   "cell_type": "markdown",
   "metadata": {},
   "source": [
    "## Preparing the final table"
   ]
  },
  {
   "cell_type": "code",
   "execution_count": 683,
   "metadata": {},
   "outputs": [],
   "source": [
    "finaldf = pd.merge(deciledf, testdfdecile, how ='left', on ='Decile') "
   ]
  },
  {
   "cell_type": "code",
   "execution_count": 684,
   "metadata": {},
   "outputs": [],
   "source": [
    "cols = list(finaldf.columns.values)"
   ]
  },
  {
   "cell_type": "code",
   "execution_count": 685,
   "metadata": {},
   "outputs": [],
   "source": [
    "cols = ['Bins','Decile','TotalLoansCount','LenderApprovedCount','LenderPercent','TotalFunded','FundedPercent','IsFirstDefaultCount','PercentDefault','CumulativePercent']"
   ]
  },
  {
   "cell_type": "code",
   "execution_count": 686,
   "metadata": {},
   "outputs": [],
   "source": [
    "finaldf=finaldf.reindex(columns=cols)\n",
    "finaldf.columns = ['Score Range', 'Decile','NumberOfApps',\"AppsApproved\",\"FractionAppsApproved\",\"AppsOriginated\",\"FractionOriginated\",\"AppsFirstDefault\",\"FractionDefault\",\"CumulativeDefaultFraction\"]"
   ]
  },
  {
   "cell_type": "code",
   "execution_count": 687,
   "metadata": {},
   "outputs": [
    {
     "data": {
      "text/html": [
       "<div>\n",
       "<style scoped>\n",
       "    .dataframe tbody tr th:only-of-type {\n",
       "        vertical-align: middle;\n",
       "    }\n",
       "\n",
       "    .dataframe tbody tr th {\n",
       "        vertical-align: top;\n",
       "    }\n",
       "\n",
       "    .dataframe thead th {\n",
       "        text-align: right;\n",
       "    }\n",
       "</style>\n",
       "<table border=\"1\" class=\"dataframe\">\n",
       "  <thead>\n",
       "    <tr style=\"text-align: right;\">\n",
       "      <th></th>\n",
       "      <th>Score Range</th>\n",
       "      <th>Decile</th>\n",
       "      <th>NumberOfApps</th>\n",
       "      <th>AppsApproved</th>\n",
       "      <th>FractionAppsApproved</th>\n",
       "      <th>AppsOriginated</th>\n",
       "      <th>FractionOriginated</th>\n",
       "      <th>AppsFirstDefault</th>\n",
       "      <th>FractionDefault</th>\n",
       "      <th>CumulativeDefaultFraction</th>\n",
       "    </tr>\n",
       "  </thead>\n",
       "  <tbody>\n",
       "    <tr>\n",
       "      <th>0</th>\n",
       "      <td>(107.999, 262.0]</td>\n",
       "      <td>0</td>\n",
       "      <td>4202</td>\n",
       "      <td>604.0</td>\n",
       "      <td>14.4</td>\n",
       "      <td>499.0</td>\n",
       "      <td>11.9</td>\n",
       "      <td>418.0</td>\n",
       "      <td>9.9</td>\n",
       "      <td>72.1</td>\n",
       "    </tr>\n",
       "    <tr>\n",
       "      <th>1</th>\n",
       "      <td>(262.0, 277.0]</td>\n",
       "      <td>1</td>\n",
       "      <td>4504</td>\n",
       "      <td>236.0</td>\n",
       "      <td>5.2</td>\n",
       "      <td>90.0</td>\n",
       "      <td>2.0</td>\n",
       "      <td>11.0</td>\n",
       "      <td>0.2</td>\n",
       "      <td>74.0</td>\n",
       "    </tr>\n",
       "    <tr>\n",
       "      <th>2</th>\n",
       "      <td>(277.0, 283.0]</td>\n",
       "      <td>2</td>\n",
       "      <td>4127</td>\n",
       "      <td>265.0</td>\n",
       "      <td>6.4</td>\n",
       "      <td>145.0</td>\n",
       "      <td>3.5</td>\n",
       "      <td>14.0</td>\n",
       "      <td>0.3</td>\n",
       "      <td>76.4</td>\n",
       "    </tr>\n",
       "    <tr>\n",
       "      <th>3</th>\n",
       "      <td>(283.0, 287.0]</td>\n",
       "      <td>3</td>\n",
       "      <td>4308</td>\n",
       "      <td>362.0</td>\n",
       "      <td>8.4</td>\n",
       "      <td>250.0</td>\n",
       "      <td>5.8</td>\n",
       "      <td>9.0</td>\n",
       "      <td>0.2</td>\n",
       "      <td>77.9</td>\n",
       "    </tr>\n",
       "    <tr>\n",
       "      <th>4</th>\n",
       "      <td>(287.0, 290.0]</td>\n",
       "      <td>4</td>\n",
       "      <td>4682</td>\n",
       "      <td>516.0</td>\n",
       "      <td>11.0</td>\n",
       "      <td>391.0</td>\n",
       "      <td>8.4</td>\n",
       "      <td>13.0</td>\n",
       "      <td>0.3</td>\n",
       "      <td>80.2</td>\n",
       "    </tr>\n",
       "    <tr>\n",
       "      <th>5</th>\n",
       "      <td>(290.0, 292.0]</td>\n",
       "      <td>5</td>\n",
       "      <td>3940</td>\n",
       "      <td>496.0</td>\n",
       "      <td>12.6</td>\n",
       "      <td>378.0</td>\n",
       "      <td>9.6</td>\n",
       "      <td>27.0</td>\n",
       "      <td>0.7</td>\n",
       "      <td>84.8</td>\n",
       "    </tr>\n",
       "    <tr>\n",
       "      <th>6</th>\n",
       "      <td>(292.0, 294.0]</td>\n",
       "      <td>6</td>\n",
       "      <td>4907</td>\n",
       "      <td>702.0</td>\n",
       "      <td>14.3</td>\n",
       "      <td>586.0</td>\n",
       "      <td>11.9</td>\n",
       "      <td>28.0</td>\n",
       "      <td>0.6</td>\n",
       "      <td>89.7</td>\n",
       "    </tr>\n",
       "    <tr>\n",
       "      <th>7</th>\n",
       "      <td>(294.0, 296.0]</td>\n",
       "      <td>7</td>\n",
       "      <td>5730</td>\n",
       "      <td>924.0</td>\n",
       "      <td>16.1</td>\n",
       "      <td>768.0</td>\n",
       "      <td>13.4</td>\n",
       "      <td>34.0</td>\n",
       "      <td>0.6</td>\n",
       "      <td>95.5</td>\n",
       "    </tr>\n",
       "    <tr>\n",
       "      <th>8</th>\n",
       "      <td>(296.0, 297.0]</td>\n",
       "      <td>8</td>\n",
       "      <td>2797</td>\n",
       "      <td>451.0</td>\n",
       "      <td>16.1</td>\n",
       "      <td>387.0</td>\n",
       "      <td>13.8</td>\n",
       "      <td>17.0</td>\n",
       "      <td>0.6</td>\n",
       "      <td>98.4</td>\n",
       "    </tr>\n",
       "    <tr>\n",
       "      <th>9</th>\n",
       "      <td>(297.0, 299.0]</td>\n",
       "      <td>9</td>\n",
       "      <td>2637</td>\n",
       "      <td>491.0</td>\n",
       "      <td>18.6</td>\n",
       "      <td>421.0</td>\n",
       "      <td>16.0</td>\n",
       "      <td>9.0</td>\n",
       "      <td>0.3</td>\n",
       "      <td>100.0</td>\n",
       "    </tr>\n",
       "  </tbody>\n",
       "</table>\n",
       "</div>"
      ],
      "text/plain": [
       "        Score Range  Decile  NumberOfApps  AppsApproved  FractionAppsApproved  \\\n",
       "0  (107.999, 262.0]       0          4202         604.0                  14.4   \n",
       "1    (262.0, 277.0]       1          4504         236.0                   5.2   \n",
       "2    (277.0, 283.0]       2          4127         265.0                   6.4   \n",
       "3    (283.0, 287.0]       3          4308         362.0                   8.4   \n",
       "4    (287.0, 290.0]       4          4682         516.0                  11.0   \n",
       "5    (290.0, 292.0]       5          3940         496.0                  12.6   \n",
       "6    (292.0, 294.0]       6          4907         702.0                  14.3   \n",
       "7    (294.0, 296.0]       7          5730         924.0                  16.1   \n",
       "8    (296.0, 297.0]       8          2797         451.0                  16.1   \n",
       "9    (297.0, 299.0]       9          2637         491.0                  18.6   \n",
       "\n",
       "   AppsOriginated  FractionOriginated  AppsFirstDefault  FractionDefault  \\\n",
       "0           499.0                11.9             418.0              9.9   \n",
       "1            90.0                 2.0              11.0              0.2   \n",
       "2           145.0                 3.5              14.0              0.3   \n",
       "3           250.0                 5.8               9.0              0.2   \n",
       "4           391.0                 8.4              13.0              0.3   \n",
       "5           378.0                 9.6              27.0              0.7   \n",
       "6           586.0                11.9              28.0              0.6   \n",
       "7           768.0                13.4              34.0              0.6   \n",
       "8           387.0                13.8              17.0              0.6   \n",
       "9           421.0                16.0               9.0              0.3   \n",
       "\n",
       "   CumulativeDefaultFraction  \n",
       "0                       72.1  \n",
       "1                       74.0  \n",
       "2                       76.4  \n",
       "3                       77.9  \n",
       "4                       80.2  \n",
       "5                       84.8  \n",
       "6                       89.7  \n",
       "7                       95.5  \n",
       "8                       98.4  \n",
       "9                      100.0  "
      ]
     },
     "execution_count": 687,
     "metadata": {},
     "output_type": "execute_result"
    }
   ],
   "source": [
    "finaldf.round(1)"
   ]
  },
  {
   "cell_type": "code",
   "execution_count": 668,
   "metadata": {},
   "outputs": [
    {
     "name": "stdout",
     "output_type": "stream",
     "text": [
      "Totals:\n"
     ]
    },
    {
     "data": {
      "text/plain": [
       "NumberOfApps        41834.0\n",
       "AppsApproved         5047.0\n",
       "AppsOriginated       3915.0\n",
       "AppsFirstDefault      580.0\n",
       "dtype: float64"
      ]
     },
     "execution_count": 668,
     "metadata": {},
     "output_type": "execute_result"
    }
   ],
   "source": [
    "print(\"Totals:\")\n",
    "finaldf[[\"NumberOfApps\",\"AppsApproved\",\"AppsOriginated\",\"AppsFirstDefault\"]].sum()"
   ]
  },
  {
   "cell_type": "markdown",
   "metadata": {},
   "source": [
    "## Key Takeaways"
   ]
  },
  {
   "cell_type": "markdown",
   "metadata": {},
   "source": [
    "1. Loan Applicants with a BL score of <260 are much more likely to default on their first payment.(72.1% of defaults across all loans!) \n",
    "\n",
    "2. Conversely, Applicants with a score of >260 are quite unlikely to default on their first payment.\n",
    "\n",
    "Keeping the above two points in mind, we can safely say that the Bank Login score and the quality of application are <b>strongly correlated.</b>. \n",
    "\n",
    "Another interesting thing to note:\n",
    "\n",
    "3. 89.1% of the Loan Applicants have a BL score of above 260 which account for only 27.7% of all first payment defaults."
   ]
  },
  {
   "cell_type": "markdown",
   "metadata": {},
   "source": [
    "### Opportunities Presented"
   ]
  },
  {
   "cell_type": "markdown",
   "metadata": {},
   "source": [
    "1. A lot of applications with a BL score above 260 are not funded as often as the ones below 260. Maximising funding loans in this bracket will improve the first payment default rates.\n",
    "\n",
    "2. Integrating the BL score should expedite the approvals process, improving the amount of loans funded in the higher deciles."
   ]
  },
  {
   "cell_type": "markdown",
   "metadata": {},
   "source": [
    "### Caveats"
   ]
  },
  {
   "cell_type": "markdown",
   "metadata": {},
   "source": [
    "1. Due to the distribution of loans skewing heavily towards a BL score of 260+, a new question arises, \"How many of these were in the A1/A2 categories in the BV+ score?\"\n",
    "\n",
    "It could be the case that most of these loans could fall into the A1/A2 Categories, and BL score wouldn't apply at all. In that case, we'll need to rethink how to use this score."
   ]
  },
  {
   "cell_type": "code",
   "execution_count": null,
   "metadata": {},
   "outputs": [],
   "source": []
  }
 ],
 "metadata": {
  "kernelspec": {
   "display_name": "Python 3",
   "language": "python",
   "name": "python3"
  },
  "language_info": {
   "codemirror_mode": {
    "name": "ipython",
    "version": 3
   },
   "file_extension": ".py",
   "mimetype": "text/x-python",
   "name": "python",
   "nbconvert_exporter": "python",
   "pygments_lexer": "ipython3",
   "version": "3.6.10"
  }
 },
 "nbformat": 4,
 "nbformat_minor": 2
}
