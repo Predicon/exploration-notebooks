{
 "cells": [
  {
   "cell_type": "markdown",
   "metadata": {},
   "source": [
    "# Extract"
   ]
  },
  {
   "cell_type": "code",
   "execution_count": 2,
   "metadata": {},
   "outputs": [],
   "source": [
    "import pymssql\n",
    "import pandas as pd\n",
    "import json\n",
    "import multiprocessing as mp\n",
    "import datetime\n",
    "import pymysql"
   ]
  },
  {
   "cell_type": "code",
   "execution_count": 1,
   "metadata": {},
   "outputs": [],
   "source": [
    "server = '192.168.4.117'\n",
    "database = 'FreedomCashLenders'\n",
    "username = 'FreedomCashLendersAll'\n",
    "mssql_password = 'Freedom123$'\n"
   ]
  },
  {
   "cell_type": "code",
   "execution_count": 3,
   "metadata": {},
   "outputs": [],
   "source": [
    "iloans_conn = pymssql.connect(server, username, mssql_password, database, port = 1433)"
   ]
  },
  {
   "cell_type": "code",
   "execution_count": null,
   "metadata": {},
   "outputs": [],
   "source": [
    "start_date = \"'2020-01-01'\"\n",
    "end_date = \"'2020-12-31'\""
   ]
  },
  {
   "cell_type": "code",
   "execution_count": null,
   "metadata": {},
   "outputs": [],
   "source": [
    "query_loan = f'''select LN.LoanId,\n",
    "                       LC.LoanCount,\n",
    "                       LN.OriginationDate,\n",
    "                       GC.BankReportData,\n",
    "                       GC.TimeAdded as ReportTimeAdded,\n",
    "                       LN.Campaign,\n",
    "                       LN.MonthlyGrossIncome,\n",
    "                       LN.DateOfBirth,\n",
    "                       LN.IsFirstDefault\n",
    "                       \n",
    "                from view_FCL_Loan LN\n",
    "                LEFT JOIN view_FCL_CustomerLoanCount LC ON LC.CustomerId = LN.CustomerId\n",
    "                LEFT JOIN view_FCL_GetCreditDataLoan GCD ON LN.LoanId = GCD.LoanId\n",
    "                LEFT JOIN view_FCL_GetCreditData GC ON GC.BankTransactionId = GCD.BankTransactionId\n",
    "                \n",
    "                \n",
    "                where LN.OriginationDate >= {start_date}\n",
    "                and LN.OriginationDate <= {end_date} \n",
    "                and LN.IsFirstDefault IS NOT NULL\n",
    "                and LN.MerchantId IN (15, 18)\n",
    "                and GC.ReportStatus = 'COMPLETE' '''"
   ]
  },
  {
   "cell_type": "code",
   "execution_count": null,
   "metadata": {},
   "outputs": [],
   "source": [
    "df_loans = pd.read_sql_query(query_loan,con = iloans_conn)"
   ]
  },
  {
   "cell_type": "code",
   "execution_count": null,
   "metadata": {},
   "outputs": [],
   "source": [
    "df_loans = df_loans.drop_duplicates('LoanId')"
   ]
  },
  {
   "cell_type": "code",
   "execution_count": null,
   "metadata": {},
   "outputs": [],
   "source": [
    "query_esign = f'''\n",
    "SELECT\n",
    "    LN.LoanId,\n",
    "    ESIG.AccessCount,\n",
    "    ESIG.EsigTimeSignedDiff_In_SEC\n",
    "FROM\n",
    "    view_FCL_Loan LN\n",
    "    LEFT JOIN view_FCL_EsignatureCustomerData ESIG ON LN.LoanId = ESIG.LoanId\n",
    "WHERE\n",
    "    LN.OriginationDate >= {start_date} \n",
    "    and LN.OriginationDate <= {end_date}\n",
    "    and LN.IsFirstDefault IS NOT NULL\n",
    "    and LN.MerchantId IN (15, 18)\n",
    "\n",
    "'''\n"
   ]
  },
  {
   "cell_type": "code",
   "execution_count": null,
   "metadata": {},
   "outputs": [],
   "source": [
    "df_esign = pd.read_sql_query(query_esign,con=iloans_conn)"
   ]
  },
  {
   "cell_type": "code",
   "execution_count": null,
   "metadata": {},
   "outputs": [],
   "source": []
  },
  {
   "cell_type": "markdown",
   "metadata": {},
   "source": [
    "## Extract Data for Evaluation"
   ]
  },
  {
   "cell_type": "code",
   "execution_count": 4,
   "metadata": {},
   "outputs": [],
   "source": [
    "def stringify_account_ids(loan_id_list):\n",
    "    \"\"\"\n",
    "    Convert account_id list into comma-separated string of account_ids\n",
    "    :return: string containing comma-separated account_ids\n",
    "    \"\"\"\n",
    "    return '(' + ', '.join([str(i) for i in loan_id_list]) + ')'"
   ]
  },
  {
   "cell_type": "code",
   "execution_count": null,
   "metadata": {},
   "outputs": [],
   "source": [
    "loanid_string=stringify_account_ids(loan_id_list)"
   ]
  },
  {
   "cell_type": "code",
   "execution_count": null,
   "metadata": {},
   "outputs": [],
   "source": [
    "query_loan_eval = '''select LN.LoanId,\n",
    "                       LC.LoanCount,\n",
    "                       LN.OriginationDate,\n",
    "                       GC.BankReportData,\n",
    "                       GC.TimeAdded as ReportTimeAdded,\n",
    "                       LN.Campaign,\n",
    "                       LN.MonthlyGrossIncome,\n",
    "                       LN.DateOfBirth,\n",
    "                       LN.IsFirstDefault\n",
    "                       \n",
    "                from view_FCL_Loan LN\n",
    "                LEFT JOIN view_FCL_CustomerLoanCount LC ON LC.CustomerId = LN.CustomerId\n",
    "                LEFT JOIN view_FCL_GetCreditDataLoan GCD ON LN.LoanId = GCD.LoanId\n",
    "                LEFT JOIN view_FCL_GetCreditData GC ON GC.BankTransactionId = GCD.BankTransactionId\n",
    "                \n",
    "                \n",
    "                WHERE\n",
    "                    GC.ReportStatus = 'COMPLETE'\n",
    "                    AND LN.LoanId IN %s'''%(loanid_string)"
   ]
  },
  {
   "cell_type": "code",
   "execution_count": null,
   "metadata": {},
   "outputs": [],
   "source": [
    "df_loan_eval = pd.read_sql_query(query_loan_eval,con=iloans_conn)"
   ]
  },
  {
   "cell_type": "code",
   "execution_count": null,
   "metadata": {},
   "outputs": [],
   "source": [
    "df_loan_eval=df_loan_eval.drop_duplicates('LoanId')"
   ]
  },
  {
   "cell_type": "code",
   "execution_count": null,
   "metadata": {},
   "outputs": [],
   "source": [
    "query_esign_eval = '''\n",
    "SELECT\n",
    "    LN.LoanId,\n",
    "    ESIG.AccessCount,\n",
    "    ESIG.EsigTimeSignedDiff_In_SEC\n",
    "FROM\n",
    "    view_FCL_Loan LN\n",
    "    LEFT JOIN view_FCL_EsignatureCustomerData ESIG ON LN.LoanId = ESIG.LoanId\n",
    "WHERE\n",
    "    LN.LoanId IN %s'''%(loanid_string)"
   ]
  },
  {
   "cell_type": "code",
   "execution_count": null,
   "metadata": {},
   "outputs": [],
   "source": [
    "df_esign_eval = pd.read_sql_query(query_esign_eval,con=iloans_conn)"
   ]
  },
  {
   "cell_type": "code",
   "execution_count": null,
   "metadata": {},
   "outputs": [],
   "source": [
    "df_esign_eval=df_esign_eval.drop_duplicates('LoanId')"
   ]
  },
  {
   "cell_type": "markdown",
   "metadata": {},
   "source": [
    "# EDA"
   ]
  },
  {
   "cell_type": "markdown",
   "metadata": {},
   "source": [
    "## check missing values"
   ]
  },
  {
   "cell_type": "markdown",
   "metadata": {},
   "source": [
    "## outlier detection"
   ]
  },
  {
   "cell_type": "markdown",
   "metadata": {
    "ExecuteTime": {
     "end_time": "2020-04-27T17:02:14.349926Z",
     "start_time": "2020-04-27T17:02:14.346876Z"
    }
   },
   "source": [
    "## check data distribution"
   ]
  },
  {
   "cell_type": "markdown",
   "metadata": {},
   "source": [
    "# Preprocess"
   ]
  },
  {
   "cell_type": "markdown",
   "metadata": {},
   "source": [
    "## utility functions"
   ]
  },
  {
   "cell_type": "code",
   "execution_count": null,
   "metadata": {},
   "outputs": [],
   "source": [
    "def parse_dates(json_date):\n",
    "    '''\n",
    "    Converts json formatted date to pandas datetime.\n",
    "    \n",
    "    Parameters:\n",
    "    JSON date (JSON).\n",
    "    \n",
    "    Returns:\n",
    "    Pandas datetime object.\n",
    "    \n",
    "    '''\n",
    "    \n",
    "    #return datetime.fromtimestamp(int(json_date)/1000.0).strftime('%Y-%m-%d')\n",
    "    return datetime.datetime.utcfromtimestamp(int(json_date)/1000).date()\n",
    "\n",
    "\n",
    "def fetch_checking_acct_txns(json_string):\n",
    "    \"\"\"\n",
    "    Parse all checking account transactions in the bank report\n",
    "    \n",
    "    Parameters:\n",
    "    json_string(json): json containing bank report\n",
    "    \n",
    "    Returns:\n",
    "    dataframe: containing transactions \n",
    "    \n",
    "    \"\"\"\n",
    "    j = json.loads(json_string)\n",
    "    df_txn = pd.DataFrame()\n",
    "    \n",
    "    acct_numbers = []\n",
    "    for accts in j['accounts']:\n",
    "        \n",
    "        if ('transactions' in accts.keys()) and (len(accts['transactions']) > 0) and (accts['accountNumber'] not in acct_numbers) and (accts['accountType'].strip().lower() == 'checking'):\n",
    "            \n",
    "            df_txn_temp = pd.DataFrame(accts['transactions'])\n",
    "            df_txn_temp['account_number'] = accts['accountNumber']\n",
    "            df_txn = df_txn.append(df_txn_temp, ignore_index=True)\n",
    "            \n",
    "            df_txn['posted_date'] = df_txn['postedDate'].map(lambda json_date: parse_dates(json_date))\n",
    "            df_txn['category'] = df_txn['contexts'].map(lambda x: x[0]['categoryName'] if len(x) > 0 else np.nan)\n",
    "            acct_numbers.append(accts['accountNumber'])\n",
    "    \n",
    "    if 'pending' in df_txn.columns:\n",
    "        df_txn = df_txn[df_txn['pending'] == False]\n",
    "    return df_txn"
   ]
  },
  {
   "cell_type": "markdown",
   "metadata": {},
   "source": [
    "## primary account"
   ]
  },
  {
   "cell_type": "code",
   "execution_count": null,
   "metadata": {},
   "outputs": [],
   "source": [
    "def get_primary_account(bankreport):\n",
    "    \"\"\"\n",
    "    Flag primary checking account (account having max transaction count)\n",
    "    \n",
    "    Parameters:\n",
    "    bankreport (json)\n",
    "    loanid (str)\n",
    "    \n",
    "    Returns:\n",
    "    Dataframe containing checking accounts and primary account flag = 1\n",
    "    \"\"\"\n",
    "    df_txn = fetch_checking_acct_txns(bankreport)\n",
    "    if df_txn.empty is False:\n",
    "        df_txns_count = df_txn['account_number'].value_counts()\n",
    "        return df_txns_count.idxmax()"
   ]
  },
  {
   "cell_type": "code",
   "execution_count": null,
   "metadata": {},
   "outputs": [],
   "source": [
    "NCPU = mp.cpu_count() - 2 if mp.cpu_count() > 2 else 1\n",
    "with mp.Pool(processes=NCPU) as pool:\n",
    "    res_primary_accts = pool.map(get_primary_account, df_loans['BankReportData'])"
   ]
  },
  {
   "cell_type": "code",
   "execution_count": null,
   "metadata": {},
   "outputs": [],
   "source": [
    "df_loans['primary_account'] = res_primary_accts"
   ]
  },
  {
   "cell_type": "code",
   "execution_count": null,
   "metadata": {},
   "outputs": [],
   "source": [
    "df_loans = df_loans.loc[df_loans['primary_account'].notnull(),:]"
   ]
  },
  {
   "cell_type": "markdown",
   "metadata": {},
   "source": [
    "## filter loans having transaction days >= 60 in primary account"
   ]
  },
  {
   "cell_type": "code",
   "execution_count": null,
   "metadata": {},
   "outputs": [],
   "source": [
    "def get_transaction_days_count(primary_account,bank_report):\n",
    "    df_checking_txns = fetch_checking_acct_txns(bank_report)\n",
    "    if df_checking_txns.empty is False:\n",
    "        df_primary_account_txns = df_checking_txns[df_checking_txns['account_number']==primary_account]\n",
    "        df_primary_account_txns= df_primary_account_txns.sort_values(by='posted_date')\n",
    "        first_txn_date = df_primary_account_txns['posted_date'].iloc[0]\n",
    "        last_txn_date = df_primary_account_txns['posted_date'].iloc[-1]\n",
    "        txn_days_count = (last_txn_date - first_txn_date).days\n",
    "        return txn_days_count >= 60"
   ]
  },
  {
   "cell_type": "code",
   "execution_count": null,
   "metadata": {},
   "outputs": [],
   "source": [
    "NCPU = mp.cpu_count() - 2 if mp.cpu_count() > 2 else 1\n",
    "with mp.Pool(processes=NCPU) as pool:\n",
    "    txn_days_count = pool.starmap(get_transaction_days_count, zip(df_loans['primary_account'],df_loans['BankReportData']))"
   ]
  },
  {
   "cell_type": "code",
   "execution_count": null,
   "metadata": {},
   "outputs": [],
   "source": [
    "df_loans['txn_days_count'] = txn_days_count"
   ]
  },
  {
   "cell_type": "code",
   "execution_count": null,
   "metadata": {},
   "outputs": [],
   "source": [
    "df_loans = df_loans.loc[df_loans['txn_days_count'] == True, :]"
   ]
  },
  {
   "cell_type": "markdown",
   "metadata": {},
   "source": [
    "## Calculate Age"
   ]
  },
  {
   "cell_type": "code",
   "execution_count": null,
   "metadata": {},
   "outputs": [],
   "source": [
    "def calculate_age(current_date, dob):\n",
    "    age = len(pd.date_range(start=dob,end=current_date,freq='Y'))\n",
    "    return age"
   ]
  },
  {
   "cell_type": "code",
   "execution_count": null,
   "metadata": {},
   "outputs": [],
   "source": [
    "df_loans['Age'] = df_loans.apply(lambda x: calculate_age(x['OriginationDate'],x['DateOfBirth']), axis = 1)"
   ]
  },
  {
   "cell_type": "markdown",
   "metadata": {},
   "source": [
    "## New or Reloan"
   ]
  },
  {
   "cell_type": "code",
   "execution_count": null,
   "metadata": {},
   "outputs": [],
   "source": [
    "df_loans['Reloan'] = df_loans['LoanCount'].apply(lambda x:True if x>1 else False)"
   ]
  },
  {
   "cell_type": "markdown",
   "metadata": {},
   "source": [
    "### Lead Provider"
   ]
  },
  {
   "cell_type": "code",
   "execution_count": null,
   "metadata": {},
   "outputs": [],
   "source": [
    "df_loans = df_loans.loc[df_loans['Campaign'].notnull(),:]"
   ]
  },
  {
   "cell_type": "code",
   "execution_count": null,
   "metadata": {},
   "outputs": [],
   "source": [
    "lead_provider_list=['MarketBullet','StopNGo','Nimbus','EPCVIP','PingBid','LeapThry',\n",
    "'Acquir','RoundSky','Zero','LeadPie',\n",
    "'ITMedia','LeadsMarket']"
   ]
  },
  {
   "cell_type": "code",
   "execution_count": null,
   "metadata": {},
   "outputs": [],
   "source": [
    "df_loans['LeadProvider'] = df_loans['Campaign'].str.extract(\"(\" + \"|\".join(lead_provider_list) +\")\",flags = re.IGNORECASE)"
   ]
  },
  {
   "cell_type": "code",
   "execution_count": null,
   "metadata": {},
   "outputs": [],
   "source": [
    "df_loans['LeadProvider']=df_loans['LeadProvider'].fillna('Freedom')"
   ]
  },
  {
   "cell_type": "markdown",
   "metadata": {},
   "source": [
    "### lender vars"
   ]
  },
  {
   "cell_type": "code",
   "execution_count": null,
   "metadata": {},
   "outputs": [],
   "source": [
    "def create_lender_vars(loanid,report_string,time_added,pr_acct):\n",
    "\n",
    "        \"\"\"\n",
    "        Function to generate lender variables \n",
    "        from primary account transactions\n",
    "\n",
    "        Paramaters:\n",
    "            txns(Boolean): True - Return lender txns along with lender variables\n",
    "                           False - Return only lender variables\n",
    "\n",
    "        Returns:\n",
    "            lender_vars(dictionary): Dictionary containing all lender variables\n",
    "        \n",
    "        \"\"\"\n",
    "\n",
    "        lender_vars = dict()\n",
    "        lender_names = list()\n",
    "        lender_vars['LoanId'] = loanid\n",
    "        lender_vars['LenderAmountDeb'] = 0.0\n",
    "        lender_vars['LenderCountCred'] = 0.0\n",
    "        lender_vars['LenderAmountCred30'] = 0.0\n",
    "        lender_vars['LenderCountDeb'] = 0.0\n",
    "        lender_vars['LenderAmountDeb30'] = 0.0\n",
    "        lender_vars['LenderCountCred30'] = 0.0\n",
    "        lender_vars['LenderCountDeb30'] = 0.0\n",
    "        lender_vars['LenderAmountCred'] = 0.0\n",
    "        lender_vars['UniqLenderCount'] = 0.0\n",
    "\n",
    "        #load lending company list\n",
    "        lend_cos=joblib.load('./lend_cos.pkl')\n",
    "\n",
    "        #get primary checking account transactions\n",
    "        df_checking_txns = fetch_checking_acct_txns(report_string) \n",
    "        df_pr_acct_txns = df_checking_txns[df_checking_txns['account_number']==pr_acct]\n",
    "        \n",
    "        \n",
    "        #prepare lender transactions dataframe\n",
    "        df_lender_txns=df_pr_acct_txns.loc[df_pr_acct_txns['memo'].str.contains('|'.join(lend_cos),case=False,na=False)]\n",
    "        \n",
    "        #check for empty transactions\n",
    "        if df_lender_txns.empty is False:\n",
    "            df_lender_txns['lenderName'] = df_lender_txns['memo'].str.extract(\"(\" + \"|\".join(lend_cos) +\")\",flags = re.IGNORECASE)\n",
    "            df_lender_txns['days_diff'] = (time_added.date()-df_lender_txns['posted_date']).dt.days\n",
    "            df_lender_txns['amount'] = df_lender_txns['amount'].round(2)\n",
    "\n",
    "\n",
    "            #conditions to determine lender variables\n",
    "            cond1 = (df_lender_txns['amount']>0)\n",
    "            cond2 = cond1 & (df_lender_txns['days_diff']<=30)\n",
    "            cond3 = (df_lender_txns['amount']<0)\n",
    "            cond4 = cond3 & (df_lender_txns['days_diff']<=30)\n",
    "\n",
    "            #prepare lender variables\n",
    "            lender_vars['LenderAmountDeb'] = float(df_lender_txns.loc[cond3,'amount'].sum())\n",
    "            lender_vars['LenderCountCred'] = float(df_lender_txns[cond1].shape[0])\n",
    "            lender_vars['LenderAmountCred30'] = float(df_lender_txns.loc[cond2,'amount'].sum())\n",
    "            lender_vars['LenderCountDeb'] = float(df_lender_txns[cond3].shape[0])\n",
    "            lender_vars['LenderAmountDeb30'] = float(df_lender_txns.loc[cond4,'amount'].sum())\n",
    "            lender_vars['LenderCountCred30'] = float(df_lender_txns.loc[cond2].shape[0])\n",
    "            lender_vars['LenderCountDeb30'] = float(df_lender_txns.loc[cond4].shape[0])\n",
    "            lender_vars['LenderAmountCred'] = float(df_lender_txns.loc[cond1,'amount'].sum())\n",
    "            lender_vars['UniqLenderCount'] = float(df_lender_txns['lenderName'].nunique())\n",
    "            lender_names.append(list(df_lender_txns['lenderName'].unique()))\n",
    "            lender_vars['LenderNames'] = lender_names\n",
    "\n",
    "        return pd.DataFrame(lender_vars,index=[0])\n",
    "    "
   ]
  },
  {
   "cell_type": "markdown",
   "metadata": {},
   "source": [
    "#### in case the lender vars are to be generated for funded loans between 2018-01-01 to 2019-12-31 do not run the below cell, instead download from s3 ( look for \"download lender vars from s3\" markdown)"
   ]
  },
  {
   "cell_type": "code",
   "execution_count": null,
   "metadata": {},
   "outputs": [],
   "source": [
    "df_lender_vars = pd.DataFrame()\n",
    "NCPU = mp.cpu_count() - 2 if mp.cpu_count() > 2 else 1\n",
    "with mp.Pool(processes=NCPU) as pool:\n",
    "    df_lender_vars_temp = pool.starmap(create_lender_vars, zip(df_loans['LoanId'],df_loans['BankReportData'],df_loans['ReportTimeAdded'],df_loans['primary_account']))\n",
    "df_lender_vars=pd.concat(df_lender_vars_temp,ignore_index=True)"
   ]
  },
  {
   "cell_type": "code",
   "execution_count": null,
   "metadata": {},
   "outputs": [],
   "source": [
    "df_lender_vars.reset_index(drop=True,inplace=True)"
   ]
  },
  {
   "cell_type": "markdown",
   "metadata": {},
   "source": []
  },
  {
   "cell_type": "markdown",
   "metadata": {},
   "source": [
    "#### download lender vars from s3"
   ]
  },
  {
   "cell_type": "code",
   "execution_count": null,
   "metadata": {},
   "outputs": [],
   "source": [
    "import boto3"
   ]
  },
  {
   "cell_type": "code",
   "execution_count": null,
   "metadata": {},
   "outputs": [],
   "source": [
    "#provide access keys if needed\n",
    "s3 = boto3.client('s3')"
   ]
  },
  {
   "cell_type": "code",
   "execution_count": null,
   "metadata": {},
   "outputs": [],
   "source": [
    "s3.download_file('predicon-bucket', 'lender_vars.csv', 'FILE_NAME')"
   ]
  },
  {
   "cell_type": "code",
   "execution_count": null,
   "metadata": {},
   "outputs": [],
   "source": [
    "df_lender_vars = pd.read_csv('lender_vars.csv')"
   ]
  },
  {
   "cell_type": "code",
   "execution_count": null,
   "metadata": {},
   "outputs": [],
   "source": [
    "df_loans = pd.merge(df_loans,df_lender_vars,how='left',on='LoanId')"
   ]
  },
  {
   "cell_type": "markdown",
   "metadata": {},
   "source": [
    "### esign variables"
   ]
  },
  {
   "cell_type": "code",
   "execution_count": null,
   "metadata": {},
   "outputs": [],
   "source": [
    "df_loans= pd.merge(df_loans,df_esign,on='LoanId',how='left')"
   ]
  },
  {
   "cell_type": "markdown",
   "metadata": {},
   "source": [
    "# Train"
   ]
  },
  {
   "cell_type": "markdown",
   "metadata": {},
   "source": [
    "## useful links\n",
    "https://docs.databricks.com/_static/notebooks/mlflow/mlflow-quick-start-deployment-aws.html\n",
    "\n",
    "https://towardsdatascience.com/deploying-models-to-production-with-mlflow-and-amazon-sagemaker-d21f67909198\n",
    "\n",
    "https://www.h2o.ai/blog/a-deep-dive-into-h2os-automl/"
   ]
  },
  {
   "cell_type": "markdown",
   "metadata": {},
   "source": [
    "## specify features"
   ]
  },
  {
   "cell_type": "code",
   "execution_count": null,
   "metadata": {},
   "outputs": [],
   "source": [
    "features_drop = ['LoanCount',\n",
    "'OriginationDate',             \n",
    "'BankReportData',                   \n",
    "'ReportTimeAdded',                  \n",
    "'Campaign',\n",
    "'primary_account',\n",
    "'txn_days_count', 'DateOfBirth',]"
   ]
  },
  {
   "cell_type": "code",
   "execution_count": null,
   "metadata": {},
   "outputs": [],
   "source": [
    "df_train = df_loans.drop(columns=features_drop,axis=1)"
   ]
  },
  {
   "cell_type": "code",
   "execution_count": null,
   "metadata": {},
   "outputs": [],
   "source": [
    "import h2o\n",
    "from h2o.automl import H2OAutoML\n",
    "h2o.init(max_mem_size='16G')"
   ]
  },
  {
   "cell_type": "code",
   "execution_count": null,
   "metadata": {},
   "outputs": [],
   "source": [
    "df_h20_train =  h2o.H2OFrame(df_train)"
   ]
  },
  {
   "cell_type": "code",
   "execution_count": null,
   "metadata": {},
   "outputs": [],
   "source": [
    "y = \"IsFirstDefault\" \n",
    "x = df_h20_train.columns\n",
    "x.remove(y)\n",
    "x.remove('LoanId')"
   ]
  },
  {
   "cell_type": "code",
   "execution_count": null,
   "metadata": {},
   "outputs": [],
   "source": [
    "aml = H2OAutoML(max_runtime_secs=120, seed=1)\n",
    "aml.train(x=x, y=y, training_frame=df_h20_train)"
   ]
  },
  {
   "cell_type": "code",
   "execution_count": null,
   "metadata": {},
   "outputs": [],
   "source": [
    "lb = aml.leaderboard\n",
    "lb.head()"
   ]
  },
  {
   "cell_type": "markdown",
   "metadata": {},
   "source": [
    "# Predict"
   ]
  },
  {
   "cell_type": "markdown",
   "metadata": {},
   "source": [
    "### primary account"
   ]
  },
  {
   "cell_type": "code",
   "execution_count": null,
   "metadata": {},
   "outputs": [],
   "source": [
    "NCPU = mp.cpu_count() - 2 if mp.cpu_count() > 2 else 1\n",
    "with mp.Pool(processes=NCPU) as pool:\n",
    "    res_primary_accts = pool.map(get_primary_account, df_loan_eval['BankReportData'])"
   ]
  },
  {
   "cell_type": "code",
   "execution_count": null,
   "metadata": {},
   "outputs": [],
   "source": [
    "df_loan_eval['primary_account'] = res_primary_accts"
   ]
  },
  {
   "cell_type": "code",
   "execution_count": null,
   "metadata": {},
   "outputs": [],
   "source": [
    "df_loan_eval = df_loan_eval.loc[df_loan_eval['primary_account'].notnull(),:]"
   ]
  },
  {
   "cell_type": "markdown",
   "metadata": {},
   "source": [
    "### filter loans having transaction days >= 60 in primary account"
   ]
  },
  {
   "cell_type": "code",
   "execution_count": null,
   "metadata": {},
   "outputs": [],
   "source": [
    "NCPU = mp.cpu_count() - 2 if mp.cpu_count() > 2 else 1\n",
    "with mp.Pool(processes=NCPU) as pool:\n",
    "    txn_days_count = pool.starmap(get_transaction_days_count, zip(df_loan_eval['primary_account'],df_loan_eval['BankReportData']))"
   ]
  },
  {
   "cell_type": "code",
   "execution_count": null,
   "metadata": {},
   "outputs": [],
   "source": [
    "df_loan_eval['txn_days_count'] = txn_days_count"
   ]
  },
  {
   "cell_type": "code",
   "execution_count": null,
   "metadata": {},
   "outputs": [],
   "source": [
    "df_loan_eval = df_loan_eval.loc[df_loan_eval['txn_days_count']==True,:]"
   ]
  },
  {
   "cell_type": "markdown",
   "metadata": {},
   "source": [
    "### calculate age"
   ]
  },
  {
   "cell_type": "code",
   "execution_count": null,
   "metadata": {},
   "outputs": [],
   "source": [
    "df_loan_eval['Age'] = df_loan_eval.apply(lambda x: calculate_age(x['OriginationDate'],x['DateOfBirth']), axis = 1)"
   ]
  },
  {
   "cell_type": "markdown",
   "metadata": {},
   "source": [
    "### lead provider"
   ]
  },
  {
   "cell_type": "code",
   "execution_count": null,
   "metadata": {},
   "outputs": [],
   "source": [
    "df_loan_eval = df_loan_eval.loc[df_loan_eval['Campaign'].notnull(),:]"
   ]
  },
  {
   "cell_type": "code",
   "execution_count": null,
   "metadata": {},
   "outputs": [],
   "source": [
    "df_loan_eval['LeadProvider'] = df_loan_eval['Campaign'].str.extract(\"(\" + \"|\".join(lead_provider_list) +\")\",flags = re.IGNORECASE)"
   ]
  },
  {
   "cell_type": "code",
   "execution_count": null,
   "metadata": {},
   "outputs": [],
   "source": [
    "df_loan_eval['LeadProvider']=df_loan_eval['LeadProvider'].fillna('Freedom')"
   ]
  },
  {
   "cell_type": "markdown",
   "metadata": {},
   "source": [
    "### new or reloan"
   ]
  },
  {
   "cell_type": "code",
   "execution_count": null,
   "metadata": {},
   "outputs": [],
   "source": [
    "df_loan_eval['Reloan'] = df_loan_eval['LoanCount'].apply(lambda x:True if x>1 else False)"
   ]
  },
  {
   "cell_type": "markdown",
   "metadata": {},
   "source": [
    "### lender vars"
   ]
  },
  {
   "cell_type": "code",
   "execution_count": null,
   "metadata": {},
   "outputs": [],
   "source": [
    "df_lender_vars_eval = pd.DataFrame()\n",
    "NCPU = mp.cpu_count() - 2 if mp.cpu_count() > 2 else 1\n",
    "with mp.Pool(processes=NCPU) as pool:\n",
    "    df_lender_vars_temp = pool.starmap(create_lender_vars, zip(df_loan_eval['LoanId'],df_loan_eval['BankReportData'],df_loan_eval['ReportTimeAdded'],df_loan_eval['primary_account']))\n",
    "df_lender_vars_eval=pd.concat(df_lender_vars_temp,ignore_index=True)"
   ]
  },
  {
   "cell_type": "code",
   "execution_count": null,
   "metadata": {},
   "outputs": [],
   "source": [
    "df_loan_eval = pd.merge(df_loan_eval,df_lender_vars_eval,on='LoanId',how='left')"
   ]
  },
  {
   "cell_type": "markdown",
   "metadata": {},
   "source": [
    "### esign variables"
   ]
  },
  {
   "cell_type": "code",
   "execution_count": null,
   "metadata": {},
   "outputs": [],
   "source": [
    "df_loan_eval= pd.merge(df_loan_eval,df_esign_eval,on='LoanId',how='left')"
   ]
  },
  {
   "cell_type": "markdown",
   "metadata": {},
   "source": [
    "### run prediction"
   ]
  },
  {
   "cell_type": "code",
   "execution_count": null,
   "metadata": {},
   "outputs": [],
   "source": [
    "df_loan_predict = df_loan_eval.drop(columns=features_drop,axis=1)"
   ]
  },
  {
   "cell_type": "code",
   "execution_count": null,
   "metadata": {},
   "outputs": [],
   "source": [
    "h2o_eval = h2o.H2OFrame(df_loan_predict)"
   ]
  },
  {
   "cell_type": "code",
   "execution_count": null,
   "metadata": {},
   "outputs": [],
   "source": [
    "pred = aml.leader.predict(h2o_eval)\n",
    "pred.head()"
   ]
  },
  {
   "cell_type": "code",
   "execution_count": null,
   "metadata": {},
   "outputs": [],
   "source": [
    "#convert to pandas dataframe\n",
    "df_predictions = h2o.as_list(pred)"
   ]
  },
  {
   "cell_type": "code",
   "execution_count": null,
   "metadata": {},
   "outputs": [],
   "source": [
    "df_loan_eval.reset_index(drop=True,inplace=True)"
   ]
  },
  {
   "cell_type": "code",
   "execution_count": null,
   "metadata": {},
   "outputs": [],
   "source": [
    "df_predictions['target'] = df_loan_eval['IsFirstDefault']  "
   ]
  },
  {
   "cell_type": "code",
   "execution_count": null,
   "metadata": {},
   "outputs": [],
   "source": [
    "df_predictions = df_predictions.rename(columns={'True':'prob'})"
   ]
  },
  {
   "cell_type": "code",
   "execution_count": null,
   "metadata": {},
   "outputs": [],
   "source": [
    "df_predictions = df_predictions[['target','prob']]"
   ]
  },
  {
   "cell_type": "code",
   "execution_count": null,
   "metadata": {},
   "outputs": [],
   "source": [
    "df_predictions['target'].value_counts(normalize = True)"
   ]
  },
  {
   "cell_type": "markdown",
   "metadata": {},
   "source": [
    "# Evaluate"
   ]
  },
  {
   "cell_type": "markdown",
   "metadata": {},
   "source": [
    "## get BV uncertain and BV Approved loans for model evaluation"
   ]
  },
  {
   "cell_type": "code",
   "execution_count": null,
   "metadata": {},
   "outputs": [],
   "source": [
    "username_bank_app = 'bankreview'\n",
    "password_bank_app = 'Freedom!23'\n",
    "host_bank_app = '192.168.4.115'\n",
    "port_bank_app = 3306\n",
    "db_bank_app = 'bankreviewdb'"
   ]
  },
  {
   "cell_type": "code",
   "execution_count": null,
   "metadata": {},
   "outputs": [],
   "source": [
    "bank_app_conn = pymysql.connect(host=host_bank_app,\n",
    "                                port=port_bank_app,\n",
    "                                db=db_bank_app,\n",
    "                                user=username_bank_app,\n",
    "                                password=password_bank_app)"
   ]
  },
  {
   "cell_type": "code",
   "execution_count": null,
   "metadata": {},
   "outputs": [],
   "source": [
    "query_evaluation_loans = '''select loan_id, \n",
    "                                final_decision,\n",
    "                                reasons_for_decision,\n",
    "                                entered_date\n",
    "                                \n",
    "                            from loan \n",
    "                            where campaign like '%Production%'\n",
    "                            and STR_TO_DATE(entered_date ,'%m/%d/%Y') >= STR_TO_DATE('01/01/2020','%m/%d/%Y')\n",
    "                            and STR_TO_DATE(entered_date ,'%m/%d/%Y') < STR_TO_DATE('04/01/2020','%m/%d/%Y')\n",
    "                            and final_decision in ('Bank Validation Uncertain','Bank Validation Approved') '''"
   ]
  },
  {
   "cell_type": "code",
   "execution_count": null,
   "metadata": {},
   "outputs": [],
   "source": [
    "df_eval_loans = pd.read_sql_query(query_evaluation_loans, con = bank_app_conn)"
   ]
  },
  {
   "cell_type": "markdown",
   "metadata": {},
   "source": [
    "## get funded and mature loans for the same period"
   ]
  },
  {
   "cell_type": "code",
   "execution_count": null,
   "metadata": {},
   "outputs": [],
   "source": [
    "query_funded_mature_loans = ''' select LoanId, \n",
    "                                IsFirstDefault\n",
    "                        from view_FCL_Loan\n",
    "                        where OriginationDate >= '2020-01-01' \n",
    "                        and OriginationDate <= '2020-03-31'\n",
    "                        and IsFirstDefault IS NOT NULL\n",
    "                        and MerchantId IN (15, 18)\n",
    "                        \n",
    "                     '''"
   ]
  },
  {
   "cell_type": "code",
   "execution_count": null,
   "metadata": {},
   "outputs": [],
   "source": [
    "df_funded_mature_loans = pd.read_sql_query(query_funded_mature_loans,con = iloans_conn)"
   ]
  },
  {
   "cell_type": "code",
   "execution_count": null,
   "metadata": {},
   "outputs": [],
   "source": [
    "df_funded_mature_loans['LoanId'] = df_funded_mature_loans['LoanId'].astype(int).astype(str)"
   ]
  },
  {
   "cell_type": "code",
   "execution_count": null,
   "metadata": {},
   "outputs": [],
   "source": [
    "df_eval = pd.merge(df_funded_mature_loans,df_eval_loans,how = 'inner',left_on = 'LoanId',right_on = 'loan_id')"
   ]
  },
  {
   "cell_type": "code",
   "execution_count": null,
   "metadata": {},
   "outputs": [],
   "source": [
    "df_eval.info()"
   ]
  },
  {
   "cell_type": "code",
   "execution_count": null,
   "metadata": {},
   "outputs": [],
   "source": [
    "loan_id_list = list(df_eval['LoanId'])"
   ]
  },
  {
   "cell_type": "markdown",
   "metadata": {},
   "source": [
    "### compute KS"
   ]
  },
  {
   "cell_type": "code",
   "execution_count": null,
   "metadata": {},
   "outputs": [],
   "source": [
    "import numpy as np"
   ]
  },
  {
   "cell_type": "code",
   "execution_count": null,
   "metadata": {},
   "outputs": [],
   "source": [
    "def get_KS(df_pred):\n",
    "    \"\"\"\n",
    "    Returns KS given scores\n",
    "    Parameters:\n",
    "    df_pred (pandas df): DataFrame containing target variable and model score\n",
    "    \n",
    "    Returns:\n",
    "    float: KS value\n",
    "    \"\"\"\n",
    "    df_scores = df_pred.sort_values(by='prob')\n",
    "    total_good = (df_scores['target'] == False).sum()\n",
    "    total_bad = (df_scores['target'] == True).sum()\n",
    "    df_scores['cum_good_perc'] = (df_scores['target'] == False).cumsum()/total_good\n",
    "    df_scores['cum_bad_perc'] = (df_scores['target'] == True).cumsum()/total_bad\n",
    "    df_scores['cum_diff'] = np.abs((df_scores['cum_good_perc'] - df_scores['cum_bad_perc']))\n",
    "    return df_scores['cum_diff'].max()"
   ]
  },
  {
   "cell_type": "code",
   "execution_count": null,
   "metadata": {},
   "outputs": [],
   "source": [
    "get_KS()"
   ]
  },
  {
   "cell_type": "markdown",
   "metadata": {},
   "source": [
    "### quantiling"
   ]
  },
  {
   "cell_type": "code",
   "execution_count": null,
   "metadata": {},
   "outputs": [],
   "source": [
    "def quantile_table(df_pred,n = 10):\n",
    "    \"\"\"\n",
    "    Returns a quantile table given model scores (default is decile)\n",
    "    \n",
    "    Parameters:\n",
    "    df_pred (pandas df): DataFrame containing target variable and model score\n",
    "    \n",
    "    Returns:\n",
    "    pandas DataFrame: Pandas dataframe containing quantiles\n",
    "    \n",
    "    \"\"\"\n",
    "    df_scores = df_pred.sort_values(by='prob')\n",
    "    df_scores['decile'],score_bin = pd.qcut(df_scores['prob'],10,labels=[1,2,3,4,5,6,7,8,9,10],retbins = True)\n",
    "    df_scores['target'] = df_scores['target'].astype(int)\n",
    "    df_scores_deciles = df_scores.groupby('decile',as_index=False).agg({'prob':['count','min','max','mean'],'target':'sum'})\n",
    "    df_scores_deciles.columns = ['decile','count','min_score','max_score','mean_score','bad_count']\n",
    "    df_scores_deciles['perc_bad'] = (df_scores_deciles['bad_count']/df_scores_deciles['count']) * 100\n",
    "    return df_scores_deciles,score_bin"
   ]
  },
  {
   "cell_type": "code",
   "execution_count": null,
   "metadata": {},
   "outputs": [],
   "source": [
    "quantile_table, score_bins = quantile_table(df_predictions)"
   ]
  },
  {
   "cell_type": "code",
   "execution_count": null,
   "metadata": {},
   "outputs": [],
   "source": [
    "quantile_table"
   ]
  },
  {
   "cell_type": "markdown",
   "metadata": {},
   "source": [
    "### get bins for quantile assignment"
   ]
  },
  {
   "cell_type": "code",
   "execution_count": null,
   "metadata": {},
   "outputs": [],
   "source": [
    "score_bins"
   ]
  },
  {
   "cell_type": "code",
   "execution_count": null,
   "metadata": {},
   "outputs": [],
   "source": [
    "score_bins = np.concatenate(([-np.inf], score_bins, [np.inf]))"
   ]
  },
  {
   "cell_type": "markdown",
   "metadata": {},
   "source": [
    "### upload to sagemaker"
   ]
  },
  {
   "cell_type": "code",
   "execution_count": null,
   "metadata": {},
   "outputs": [],
   "source": [
    "import mlflow"
   ]
  },
  {
   "cell_type": "code",
   "execution_count": null,
   "metadata": {},
   "outputs": [],
   "source": [
    "import mlflow.h2o as mh2o"
   ]
  },
  {
   "cell_type": "code",
   "execution_count": null,
   "metadata": {},
   "outputs": [],
   "source": [
    "import mlflow.sagemaker as mfs"
   ]
  },
  {
   "cell_type": "code",
   "execution_count": null,
   "metadata": {},
   "outputs": [],
   "source": [
    "mh2o.save_model(aml.leader,path=\"path/to/trained/model\")"
   ]
  },
  {
   "cell_type": "code",
   "execution_count": null,
   "metadata": {},
   "outputs": [],
   "source": [
    "region = \"us-east-1\"\n",
    "arn = \"arn:aws:iam::757719720041:role/Sagemaker\"\n",
    "appname = \"h20-mlflow-deploy\"\n",
    "modeluri = \"path/to/saved/model\" \n",
    "image_url = \"757719720041.dkr.ecr.us-east-1.amazonaws.com/freedom-pyfunc:latest\""
   ]
  },
  {
   "cell_type": "code",
   "execution_count": null,
   "metadata": {},
   "outputs": [],
   "source": [
    "mfs.deploy(app_name=appname, model_path=modeluri, instance_type='ml.t2.medium',region_name=region, mode=\"create\",execution_role_arn=arn,image_url=image_url)"
   ]
  },
  {
   "cell_type": "code",
   "execution_count": null,
   "metadata": {},
   "outputs": [],
   "source": [
    "import boto3\n",
    "\n",
    "def check_status(app_name):\n",
    "    sage_client = boto3.client('sagemaker', region_name=\"us-east-1\")\n",
    "    endpoint_description = sage_client.describe_endpoint(EndpointName=app_name)\n",
    "    endpoint_status = endpoint_description[\"EndpointStatus\"]\n",
    "    return endpoint_status"
   ]
  },
  {
   "cell_type": "code",
   "execution_count": null,
   "metadata": {},
   "outputs": [],
   "source": [
    "check_status(appname)"
   ]
  },
  {
   "cell_type": "markdown",
   "metadata": {},
   "source": [
    "### negative esign and extremes positives analysis"
   ]
  },
  {
   "cell_type": "code",
   "execution_count": 5,
   "metadata": {},
   "outputs": [],
   "source": [
    "df_neg_pos_loanids = pd.read_csv('faulty_loanids.csv')"
   ]
  },
  {
   "cell_type": "code",
   "execution_count": 6,
   "metadata": {},
   "outputs": [
    {
     "name": "stdout",
     "output_type": "stream",
     "text": [
      "<class 'pandas.core.frame.DataFrame'>\n",
      "RangeIndex: 828 entries, 0 to 827\n",
      "Data columns (total 1 columns):\n",
      " #   Column  Non-Null Count  Dtype\n",
      "---  ------  --------------  -----\n",
      " 0   LoanId  828 non-null    int64\n",
      "dtypes: int64(1)\n",
      "memory usage: 6.6 KB\n"
     ]
    }
   ],
   "source": [
    "df_neg_pos_loanids.info()"
   ]
  },
  {
   "cell_type": "markdown",
   "metadata": {},
   "source": [
    "### query all required data"
   ]
  },
  {
   "cell_type": "code",
   "execution_count": 7,
   "metadata": {},
   "outputs": [],
   "source": [
    "loanid_list_negative_postive = list(df_neg_pos_loanids['LoanId'])"
   ]
  },
  {
   "cell_type": "code",
   "execution_count": 8,
   "metadata": {},
   "outputs": [],
   "source": [
    "loanid_string = stringify_account_ids(loanid_list_negative_postive) "
   ]
  },
  {
   "cell_type": "code",
   "execution_count": 9,
   "metadata": {},
   "outputs": [],
   "source": [
    "query='''SELECT\n",
    "    LA.LoanID,\n",
    "    LA.TimeAdded AS LeadTimeAdded,\n",
    "    T2.NoteDescription,\n",
    "    T2.NoteTimeAdded,\n",
    "    T2.LoanStatus,\n",
    "    ESIG.TimeSigned,\n",
    "    ESIG.LeadTimeAdded AS LeadTimeAddedEsign,\n",
    "    ESIG.EsigTimeSignedDiff_In_SEC,\n",
    "    GC.TimeAdded AS GCTimeAdded,\n",
    "    GC.ReportStatus,\n",
    "    LC.LoanCount\n",
    "FROM\n",
    "    view_FCL_LeadAccepted LA\n",
    "LEFT JOIN\n",
    "    view_FCL_EsignatureCustomerData ESIG ON LA.LoanId=ESIG.LoanId\n",
    "LEFT JOIN \n",
    "    view_FCL_GetCreditDataLoan GCD ON LA.LoanId = GCD.LoanId\n",
    "LEFT JOIN \n",
    "    view_FCL_GetCreditData GC ON GC.BankTransactionId = GCD.BankTransactionId\n",
    "LEFT JOIN \n",
    "    view_FCL_CustomerLoanCount LC ON LA.Customerid = LC.CustomerID\n",
    "LEFT JOIN(\n",
    "    SELECT \n",
    "        *\n",
    "    FROM\n",
    "    (\n",
    "    SELECT \n",
    "        LoanId,\n",
    "        NoteDescription,\n",
    "        LoanStatus,\n",
    "        TimeAdded AS NoteTimeAdded,\n",
    "        ROW_NUMBER() OVER (PARTITION BY LoanId ORDER BY TimeAdded DESC) AS RowNumber\n",
    "    FROM \n",
    "        view_FCL_Notes\n",
    "    WHERE \n",
    "        NoteDescription LIKE '%%ESignature%%'\n",
    "    ) T \n",
    "    WHERE\n",
    "        T.RowNumber=1) T2 ON LA.LoanId = T2.LoanId\n",
    "WHERE\n",
    "    ESIG.LoanId IN %s'''%(loanid_string)"
   ]
  },
  {
   "cell_type": "code",
   "execution_count": 10,
   "metadata": {},
   "outputs": [],
   "source": [
    "df_esign_analysis = pd.read_sql_query(query,con=iloans_conn)"
   ]
  },
  {
   "cell_type": "code",
   "execution_count": 11,
   "metadata": {},
   "outputs": [
    {
     "data": {
      "text/plain": [
       "(832, 11)"
      ]
     },
     "execution_count": 11,
     "metadata": {},
     "output_type": "execute_result"
    }
   ],
   "source": [
    "df_esign_analysis.shape"
   ]
  },
  {
   "cell_type": "markdown",
   "metadata": {},
   "source": [
    "### Negative esigns\n",
    "\n",
    "\n",
    "#### from below data it is observed that 'LeadTimeAdded'  recorded in Esign Table is not accurate. The lead time added  it closer to gc submit time. Hence it satifies the assumed flow i.e, Lead gets added---->customer Esigns----> customer submits bank report.  But that also raises question about positive esign time difference (in this case it means customer is submitting bank report first and then esigining)\n",
    "\n",
    "\n",
    "#### we have to determine the flow whether it is gc first or esign first? in order to accurately calculate this field"
   ]
  },
  {
   "cell_type": "code",
   "execution_count": 12,
   "metadata": {},
   "outputs": [],
   "source": [
    "df_esign_negatives = df_esign_analysis[df_esign_analysis['EsigTimeSignedDiff_In_SEC']<0]"
   ]
  },
  {
   "cell_type": "code",
   "execution_count": 13,
   "metadata": {},
   "outputs": [
    {
     "data": {
      "text/html": [
       "<div>\n",
       "<style scoped>\n",
       "    .dataframe tbody tr th:only-of-type {\n",
       "        vertical-align: middle;\n",
       "    }\n",
       "\n",
       "    .dataframe tbody tr th {\n",
       "        vertical-align: top;\n",
       "    }\n",
       "\n",
       "    .dataframe thead th {\n",
       "        text-align: right;\n",
       "    }\n",
       "</style>\n",
       "<table border=\"1\" class=\"dataframe\">\n",
       "  <thead>\n",
       "    <tr style=\"text-align: right;\">\n",
       "      <th></th>\n",
       "      <th>LoanID</th>\n",
       "      <th>LeadTimeAdded</th>\n",
       "      <th>NoteDescription</th>\n",
       "      <th>NoteTimeAdded</th>\n",
       "      <th>LoanStatus</th>\n",
       "      <th>TimeSigned</th>\n",
       "      <th>LeadTimeAddedEsign</th>\n",
       "      <th>EsigTimeSignedDiff_In_SEC</th>\n",
       "      <th>GCTimeAdded</th>\n",
       "      <th>ReportStatus</th>\n",
       "      <th>LoanCount</th>\n",
       "    </tr>\n",
       "  </thead>\n",
       "  <tbody>\n",
       "    <tr>\n",
       "      <th>2</th>\n",
       "      <td>1.164098e+10</td>\n",
       "      <td>2019-05-20 12:08:40.780</td>\n",
       "      <td>[Freedom2 Cash Lenders] ESignature Document</td>\n",
       "      <td>2019-05-20 22:40:41.233</td>\n",
       "      <td>Charged Off(NCM)</td>\n",
       "      <td>2019-05-20 20:08:05.510</td>\n",
       "      <td>2019-05-20 20:08:40.780</td>\n",
       "      <td>-35</td>\n",
       "      <td>2019-05-20 20:08:40.200</td>\n",
       "      <td>COMPLETE</td>\n",
       "      <td>1</td>\n",
       "    </tr>\n",
       "    <tr>\n",
       "      <th>4</th>\n",
       "      <td>1.363352e+10</td>\n",
       "      <td>2019-03-04 03:11:10.823</td>\n",
       "      <td>[Freedom2 Cash Lenders] ESignature Document</td>\n",
       "      <td>2019-03-04 22:36:42.473</td>\n",
       "      <td>Charged Off(NCM)</td>\n",
       "      <td>2019-03-04 11:09:57.683</td>\n",
       "      <td>2019-03-04 11:11:10.823</td>\n",
       "      <td>-73</td>\n",
       "      <td>2019-03-04 11:11:10.590</td>\n",
       "      <td>COMPLETE</td>\n",
       "      <td>1</td>\n",
       "    </tr>\n",
       "    <tr>\n",
       "      <th>6</th>\n",
       "      <td>1.861407e+10</td>\n",
       "      <td>2018-09-25 08:29:31.357</td>\n",
       "      <td>[Freedom Cash Lenders] ESignature Document</td>\n",
       "      <td>2018-09-25 23:53:06.030</td>\n",
       "      <td>Charged Off(MCS)</td>\n",
       "      <td>2018-09-25 16:29:03.500</td>\n",
       "      <td>2018-09-25 16:29:31.357</td>\n",
       "      <td>-28</td>\n",
       "      <td>2018-09-25 16:29:30.677</td>\n",
       "      <td>COMPLETE</td>\n",
       "      <td>1</td>\n",
       "    </tr>\n",
       "    <tr>\n",
       "      <th>8</th>\n",
       "      <td>1.863346e+10</td>\n",
       "      <td>2019-03-01 08:32:08.297</td>\n",
       "      <td>[Freedom Cash Lenders] ESignature Document</td>\n",
       "      <td>2019-03-01 20:42:50.177</td>\n",
       "      <td>Charged Off(NCM)</td>\n",
       "      <td>2019-03-01 16:31:07.997</td>\n",
       "      <td>2019-03-01 16:32:08.297</td>\n",
       "      <td>-61</td>\n",
       "      <td>2019-03-01 16:32:07.587</td>\n",
       "      <td>COMPLETE</td>\n",
       "      <td>1</td>\n",
       "    </tr>\n",
       "    <tr>\n",
       "      <th>10</th>\n",
       "      <td>2.364252e+10</td>\n",
       "      <td>2019-06-05 09:55:15.623</td>\n",
       "      <td>None</td>\n",
       "      <td>NaT</td>\n",
       "      <td>None</td>\n",
       "      <td>2019-06-05 17:53:19.290</td>\n",
       "      <td>2019-06-05 17:55:15.623</td>\n",
       "      <td>-116</td>\n",
       "      <td>2019-06-05 17:55:15.057</td>\n",
       "      <td>COMPLETE</td>\n",
       "      <td>5</td>\n",
       "    </tr>\n",
       "  </tbody>\n",
       "</table>\n",
       "</div>"
      ],
      "text/plain": [
       "          LoanID           LeadTimeAdded  \\\n",
       "2   1.164098e+10 2019-05-20 12:08:40.780   \n",
       "4   1.363352e+10 2019-03-04 03:11:10.823   \n",
       "6   1.861407e+10 2018-09-25 08:29:31.357   \n",
       "8   1.863346e+10 2019-03-01 08:32:08.297   \n",
       "10  2.364252e+10 2019-06-05 09:55:15.623   \n",
       "\n",
       "                                NoteDescription           NoteTimeAdded  \\\n",
       "2   [Freedom2 Cash Lenders] ESignature Document 2019-05-20 22:40:41.233   \n",
       "4   [Freedom2 Cash Lenders] ESignature Document 2019-03-04 22:36:42.473   \n",
       "6    [Freedom Cash Lenders] ESignature Document 2018-09-25 23:53:06.030   \n",
       "8    [Freedom Cash Lenders] ESignature Document 2019-03-01 20:42:50.177   \n",
       "10                                         None                     NaT   \n",
       "\n",
       "          LoanStatus              TimeSigned      LeadTimeAddedEsign  \\\n",
       "2   Charged Off(NCM) 2019-05-20 20:08:05.510 2019-05-20 20:08:40.780   \n",
       "4   Charged Off(NCM) 2019-03-04 11:09:57.683 2019-03-04 11:11:10.823   \n",
       "6   Charged Off(MCS) 2018-09-25 16:29:03.500 2018-09-25 16:29:31.357   \n",
       "8   Charged Off(NCM) 2019-03-01 16:31:07.997 2019-03-01 16:32:08.297   \n",
       "10              None 2019-06-05 17:53:19.290 2019-06-05 17:55:15.623   \n",
       "\n",
       "    EsigTimeSignedDiff_In_SEC             GCTimeAdded          ReportStatus  \\\n",
       "2                         -35 2019-05-20 20:08:40.200  COMPLETE               \n",
       "4                         -73 2019-03-04 11:11:10.590  COMPLETE               \n",
       "6                         -28 2018-09-25 16:29:30.677  COMPLETE               \n",
       "8                         -61 2019-03-01 16:32:07.587  COMPLETE               \n",
       "10                       -116 2019-06-05 17:55:15.057  COMPLETE               \n",
       "\n",
       "    LoanCount  \n",
       "2           1  \n",
       "4           1  \n",
       "6           1  \n",
       "8           1  \n",
       "10          5  "
      ]
     },
     "execution_count": 13,
     "metadata": {},
     "output_type": "execute_result"
    }
   ],
   "source": [
    "df_esign_negatives.head()"
   ]
  },
  {
   "cell_type": "markdown",
   "metadata": {},
   "source": [
    "#### Difference between esign table's leadTimeAdded and GC TimeAdded"
   ]
  },
  {
   "cell_type": "code",
   "execution_count": null,
   "metadata": {},
   "outputs": [],
   "source": [
    "df_esign_negatives['time_diff_gc_esignLeadTimeAdded'] = (df_esign_negatives['LeadTimeAddedEsign'] - df_esign_negatives['GCTimeAdded']).dt.total_seconds()"
   ]
  },
  {
   "cell_type": "code",
   "execution_count": 15,
   "metadata": {},
   "outputs": [
    {
     "data": {
      "text/plain": [
       "count    484.000000\n",
       "mean       0.470229\n",
       "std        1.140833\n",
       "min      -13.307000\n",
       "25%        0.230000\n",
       "50%        0.263000\n",
       "75%        0.427750\n",
       "max       13.804000\n",
       "Name: time_diff_gc_esignLeadTimeAdded, dtype: float64"
      ]
     },
     "execution_count": 15,
     "metadata": {},
     "output_type": "execute_result"
    }
   ],
   "source": [
    "df_esign_negatives['time_diff_gc_esignLeadTimeAdded'].describe()"
   ]
  },
  {
   "cell_type": "markdown",
   "metadata": {},
   "source": [
    "### extreme positive cases\n",
    "\n",
    "#### agents are sending out esign document days after gc submits, which can mean they are tracking down good customers and are making sure they are funded or customers are approaching the agents directly after many days requesting for a loan(maybe denied by other lenders or desperate)"
   ]
  },
  {
   "cell_type": "code",
   "execution_count": 16,
   "metadata": {},
   "outputs": [],
   "source": [
    "df_esign_positives = df_esign_analysis[df_esign_analysis['EsigTimeSignedDiff_In_SEC']>0]"
   ]
  },
  {
   "cell_type": "code",
   "execution_count": null,
   "metadata": {},
   "outputs": [],
   "source": []
  },
  {
   "cell_type": "code",
   "execution_count": 17,
   "metadata": {},
   "outputs": [
    {
     "data": {
      "text/html": [
       "<div>\n",
       "<style scoped>\n",
       "    .dataframe tbody tr th:only-of-type {\n",
       "        vertical-align: middle;\n",
       "    }\n",
       "\n",
       "    .dataframe tbody tr th {\n",
       "        vertical-align: top;\n",
       "    }\n",
       "\n",
       "    .dataframe thead th {\n",
       "        text-align: right;\n",
       "    }\n",
       "</style>\n",
       "<table border=\"1\" class=\"dataframe\">\n",
       "  <thead>\n",
       "    <tr style=\"text-align: right;\">\n",
       "      <th></th>\n",
       "      <th>LoanID</th>\n",
       "      <th>LeadTimeAdded</th>\n",
       "      <th>NoteDescription</th>\n",
       "      <th>NoteTimeAdded</th>\n",
       "      <th>LoanStatus</th>\n",
       "      <th>TimeSigned</th>\n",
       "      <th>LeadTimeAddedEsign</th>\n",
       "      <th>EsigTimeSignedDiff_In_SEC</th>\n",
       "      <th>GCTimeAdded</th>\n",
       "      <th>ReportStatus</th>\n",
       "      <th>LoanCount</th>\n",
       "    </tr>\n",
       "  </thead>\n",
       "  <tbody>\n",
       "    <tr>\n",
       "      <th>0</th>\n",
       "      <td>1.063203e+10</td>\n",
       "      <td>2019-02-14 02:42:34.883</td>\n",
       "      <td>[Freedom2 Cash Lenders] ESignature Document</td>\n",
       "      <td>2019-02-19 20:30:53.047</td>\n",
       "      <td>Charged Off(NCM)</td>\n",
       "      <td>2019-02-19 21:01:12.637</td>\n",
       "      <td>2019-02-14 10:42:34.883</td>\n",
       "      <td>469118</td>\n",
       "      <td>2019-02-14 10:42:34.653</td>\n",
       "      <td>COMPLETE</td>\n",
       "      <td>1</td>\n",
       "    </tr>\n",
       "    <tr>\n",
       "      <th>1</th>\n",
       "      <td>1.063705e+10</td>\n",
       "      <td>2019-04-09 06:09:38.770</td>\n",
       "      <td>[Freedom Cash Lenders] ESignature Document</td>\n",
       "      <td>2019-04-16 15:09:17.257</td>\n",
       "      <td>Charged Off(NCM)</td>\n",
       "      <td>2019-04-16 13:11:38.373</td>\n",
       "      <td>2019-04-09 14:09:38.770</td>\n",
       "      <td>601320</td>\n",
       "      <td>2019-04-09 14:09:38.543</td>\n",
       "      <td>COMPLETE</td>\n",
       "      <td>1</td>\n",
       "    </tr>\n",
       "    <tr>\n",
       "      <th>3</th>\n",
       "      <td>1.259709e+10</td>\n",
       "      <td>2018-05-11 10:12:36.410</td>\n",
       "      <td>[Freedom2 Cash Lenders] ESignature Document</td>\n",
       "      <td>2018-05-17 22:38:21.330</td>\n",
       "      <td>Charged Off(NCM)</td>\n",
       "      <td>2018-05-17 22:41:57.813</td>\n",
       "      <td>2018-05-11 18:12:36.410</td>\n",
       "      <td>534561</td>\n",
       "      <td>2018-05-11 18:12:36.110</td>\n",
       "      <td>COMPLETE</td>\n",
       "      <td>1</td>\n",
       "    </tr>\n",
       "    <tr>\n",
       "      <th>5</th>\n",
       "      <td>1.563939e+10</td>\n",
       "      <td>2019-05-03 10:33:56.917</td>\n",
       "      <td>[Freedom2 Cash Lenders] ESignature Document</td>\n",
       "      <td>2019-05-08 20:42:20.400</td>\n",
       "      <td>No ACH actions on this loan</td>\n",
       "      <td>2019-05-08 20:41:57.540</td>\n",
       "      <td>2019-05-03 18:33:56.917</td>\n",
       "      <td>439681</td>\n",
       "      <td>2019-05-03 18:33:56.700</td>\n",
       "      <td>COMPLETE</td>\n",
       "      <td>1</td>\n",
       "    </tr>\n",
       "    <tr>\n",
       "      <th>7</th>\n",
       "      <td>1.863190e+10</td>\n",
       "      <td>2019-02-12 10:12:18.133</td>\n",
       "      <td>[Freedom Cash Lenders] ESignature Document</td>\n",
       "      <td>2019-02-26 17:53:48.067</td>\n",
       "      <td>Customer sent to collections</td>\n",
       "      <td>2019-02-26 17:31:32.177</td>\n",
       "      <td>2019-02-12 18:12:18.133</td>\n",
       "      <td>1207154</td>\n",
       "      <td>2019-02-12 18:12:17.900</td>\n",
       "      <td>COMPLETE</td>\n",
       "      <td>1</td>\n",
       "    </tr>\n",
       "    <tr>\n",
       "      <th>9</th>\n",
       "      <td>1.959794e+10</td>\n",
       "      <td>2018-05-18 07:19:28.333</td>\n",
       "      <td>[Freedom2 Cash Lenders] ESignature Document</td>\n",
       "      <td>2018-05-23 22:19:33.113</td>\n",
       "      <td>Bankruptcy</td>\n",
       "      <td>2018-05-23 22:33:58.097</td>\n",
       "      <td>2018-05-18 15:19:28.333</td>\n",
       "      <td>458070</td>\n",
       "      <td>2018-05-18 15:19:28.047</td>\n",
       "      <td>COMPLETE</td>\n",
       "      <td>1</td>\n",
       "    </tr>\n",
       "    <tr>\n",
       "      <th>12</th>\n",
       "      <td>2.566154e+10</td>\n",
       "      <td>2019-11-14 13:37:03.483</td>\n",
       "      <td>[Freedom2 Cash Lenders] ESignature Document</td>\n",
       "      <td>2019-11-22 19:11:17.133</td>\n",
       "      <td>Loan Paid Off</td>\n",
       "      <td>2019-11-22 19:13:25.270</td>\n",
       "      <td>2019-11-14 21:37:03.483</td>\n",
       "      <td>682582</td>\n",
       "      <td>2019-11-14 21:37:02.653</td>\n",
       "      <td>COMPLETE</td>\n",
       "      <td>2</td>\n",
       "    </tr>\n",
       "    <tr>\n",
       "      <th>13</th>\n",
       "      <td>2.662336e+10</td>\n",
       "      <td>2018-12-06 09:20:42.760</td>\n",
       "      <td>[Freedom Cash Lenders] ESignature Document</td>\n",
       "      <td>2018-12-19 22:32:14.227</td>\n",
       "      <td>Charged Off(NCM)</td>\n",
       "      <td>2018-12-19 18:02:09.470</td>\n",
       "      <td>2018-12-06 17:20:42.760</td>\n",
       "      <td>1125687</td>\n",
       "      <td>2018-12-06 17:20:42.307</td>\n",
       "      <td>COMPLETE</td>\n",
       "      <td>1</td>\n",
       "    </tr>\n",
       "    <tr>\n",
       "      <th>14</th>\n",
       "      <td>2.961693e+10</td>\n",
       "      <td>2018-10-10 05:24:44.210</td>\n",
       "      <td>[Freedom2 Cash Lenders] ESignature Document</td>\n",
       "      <td>2018-10-25 13:09:55.090</td>\n",
       "      <td>Charged Off(NCM)</td>\n",
       "      <td>2018-10-25 13:10:38.283</td>\n",
       "      <td>2018-10-10 13:24:44.210</td>\n",
       "      <td>1295154</td>\n",
       "      <td>2018-10-10 13:24:43.833</td>\n",
       "      <td>COMPLETE</td>\n",
       "      <td>1</td>\n",
       "    </tr>\n",
       "    <tr>\n",
       "      <th>18</th>\n",
       "      <td>3.961907e+10</td>\n",
       "      <td>2018-10-25 07:55:38.977</td>\n",
       "      <td>[Freedom Cash Lenders] ESignature Document</td>\n",
       "      <td>2018-10-31 20:14:00.690</td>\n",
       "      <td>Loan Paid Off by Re-Up</td>\n",
       "      <td>2018-10-31 21:30:38.220</td>\n",
       "      <td>2018-10-25 15:55:38.977</td>\n",
       "      <td>538500</td>\n",
       "      <td>2018-10-25 15:55:38.757</td>\n",
       "      <td>COMPLETE</td>\n",
       "      <td>3</td>\n",
       "    </tr>\n",
       "  </tbody>\n",
       "</table>\n",
       "</div>"
      ],
      "text/plain": [
       "          LoanID           LeadTimeAdded  \\\n",
       "0   1.063203e+10 2019-02-14 02:42:34.883   \n",
       "1   1.063705e+10 2019-04-09 06:09:38.770   \n",
       "3   1.259709e+10 2018-05-11 10:12:36.410   \n",
       "5   1.563939e+10 2019-05-03 10:33:56.917   \n",
       "7   1.863190e+10 2019-02-12 10:12:18.133   \n",
       "9   1.959794e+10 2018-05-18 07:19:28.333   \n",
       "12  2.566154e+10 2019-11-14 13:37:03.483   \n",
       "13  2.662336e+10 2018-12-06 09:20:42.760   \n",
       "14  2.961693e+10 2018-10-10 05:24:44.210   \n",
       "18  3.961907e+10 2018-10-25 07:55:38.977   \n",
       "\n",
       "                                NoteDescription           NoteTimeAdded  \\\n",
       "0   [Freedom2 Cash Lenders] ESignature Document 2019-02-19 20:30:53.047   \n",
       "1    [Freedom Cash Lenders] ESignature Document 2019-04-16 15:09:17.257   \n",
       "3   [Freedom2 Cash Lenders] ESignature Document 2018-05-17 22:38:21.330   \n",
       "5   [Freedom2 Cash Lenders] ESignature Document 2019-05-08 20:42:20.400   \n",
       "7    [Freedom Cash Lenders] ESignature Document 2019-02-26 17:53:48.067   \n",
       "9   [Freedom2 Cash Lenders] ESignature Document 2018-05-23 22:19:33.113   \n",
       "12  [Freedom2 Cash Lenders] ESignature Document 2019-11-22 19:11:17.133   \n",
       "13   [Freedom Cash Lenders] ESignature Document 2018-12-19 22:32:14.227   \n",
       "14  [Freedom2 Cash Lenders] ESignature Document 2018-10-25 13:09:55.090   \n",
       "18   [Freedom Cash Lenders] ESignature Document 2018-10-31 20:14:00.690   \n",
       "\n",
       "                      LoanStatus              TimeSigned  \\\n",
       "0               Charged Off(NCM) 2019-02-19 21:01:12.637   \n",
       "1               Charged Off(NCM) 2019-04-16 13:11:38.373   \n",
       "3               Charged Off(NCM) 2018-05-17 22:41:57.813   \n",
       "5    No ACH actions on this loan 2019-05-08 20:41:57.540   \n",
       "7   Customer sent to collections 2019-02-26 17:31:32.177   \n",
       "9                     Bankruptcy 2018-05-23 22:33:58.097   \n",
       "12                 Loan Paid Off 2019-11-22 19:13:25.270   \n",
       "13              Charged Off(NCM) 2018-12-19 18:02:09.470   \n",
       "14              Charged Off(NCM) 2018-10-25 13:10:38.283   \n",
       "18        Loan Paid Off by Re-Up 2018-10-31 21:30:38.220   \n",
       "\n",
       "        LeadTimeAddedEsign  EsigTimeSignedDiff_In_SEC             GCTimeAdded  \\\n",
       "0  2019-02-14 10:42:34.883                     469118 2019-02-14 10:42:34.653   \n",
       "1  2019-04-09 14:09:38.770                     601320 2019-04-09 14:09:38.543   \n",
       "3  2018-05-11 18:12:36.410                     534561 2018-05-11 18:12:36.110   \n",
       "5  2019-05-03 18:33:56.917                     439681 2019-05-03 18:33:56.700   \n",
       "7  2019-02-12 18:12:18.133                    1207154 2019-02-12 18:12:17.900   \n",
       "9  2018-05-18 15:19:28.333                     458070 2018-05-18 15:19:28.047   \n",
       "12 2019-11-14 21:37:03.483                     682582 2019-11-14 21:37:02.653   \n",
       "13 2018-12-06 17:20:42.760                    1125687 2018-12-06 17:20:42.307   \n",
       "14 2018-10-10 13:24:44.210                    1295154 2018-10-10 13:24:43.833   \n",
       "18 2018-10-25 15:55:38.977                     538500 2018-10-25 15:55:38.757   \n",
       "\n",
       "            ReportStatus  LoanCount  \n",
       "0   COMPLETE                      1  \n",
       "1   COMPLETE                      1  \n",
       "3   COMPLETE                      1  \n",
       "5   COMPLETE                      1  \n",
       "7   COMPLETE                      1  \n",
       "9   COMPLETE                      1  \n",
       "12  COMPLETE                      2  \n",
       "13  COMPLETE                      1  \n",
       "14  COMPLETE                      1  \n",
       "18  COMPLETE                      3  "
      ]
     },
     "execution_count": 17,
     "metadata": {},
     "output_type": "execute_result"
    }
   ],
   "source": [
    "df_esign_positives.head(10)"
   ]
  },
  {
   "cell_type": "markdown",
   "metadata": {},
   "source": [
    "#### The below loanid which has time sign difference of an year, funded date is on 2019-05-06, maybe the reused the same esginature document with esignature id 'ca67b4c3-cd83-4d26-9087-9c38562005c4' and no further actions were taken after esign"
   ]
  },
  {
   "cell_type": "code",
   "execution_count": 18,
   "metadata": {},
   "outputs": [
    {
     "data": {
      "text/html": [
       "<div>\n",
       "<style scoped>\n",
       "    .dataframe tbody tr th:only-of-type {\n",
       "        vertical-align: middle;\n",
       "    }\n",
       "\n",
       "    .dataframe tbody tr th {\n",
       "        vertical-align: top;\n",
       "    }\n",
       "\n",
       "    .dataframe thead th {\n",
       "        text-align: right;\n",
       "    }\n",
       "</style>\n",
       "<table border=\"1\" class=\"dataframe\">\n",
       "  <thead>\n",
       "    <tr style=\"text-align: right;\">\n",
       "      <th></th>\n",
       "      <th>LoanID</th>\n",
       "      <th>LeadTimeAdded</th>\n",
       "      <th>NoteDescription</th>\n",
       "      <th>NoteTimeAdded</th>\n",
       "      <th>LoanStatus</th>\n",
       "      <th>TimeSigned</th>\n",
       "      <th>LeadTimeAddedEsign</th>\n",
       "      <th>EsigTimeSignedDiff_In_SEC</th>\n",
       "      <th>GCTimeAdded</th>\n",
       "      <th>ReportStatus</th>\n",
       "      <th>LoanCount</th>\n",
       "    </tr>\n",
       "  </thead>\n",
       "  <tbody>\n",
       "    <tr>\n",
       "      <th>743</th>\n",
       "      <td>5.363941e+10</td>\n",
       "      <td>2019-05-03 13:10:45.757</td>\n",
       "      <td>[Freedom2 Cash Lenders] ESignature Document</td>\n",
       "      <td>2019-05-03 22:47:22.653</td>\n",
       "      <td>Loan Paid Off by Re-Up</td>\n",
       "      <td>2020-03-03 02:06:17.567</td>\n",
       "      <td>2019-05-03 21:10:45.757</td>\n",
       "      <td>26283332</td>\n",
       "      <td>2019-05-03 21:10:45.547</td>\n",
       "      <td>COMPLETE</td>\n",
       "      <td>2</td>\n",
       "    </tr>\n",
       "  </tbody>\n",
       "</table>\n",
       "</div>"
      ],
      "text/plain": [
       "           LoanID           LeadTimeAdded  \\\n",
       "743  5.363941e+10 2019-05-03 13:10:45.757   \n",
       "\n",
       "                                 NoteDescription           NoteTimeAdded  \\\n",
       "743  [Freedom2 Cash Lenders] ESignature Document 2019-05-03 22:47:22.653   \n",
       "\n",
       "                 LoanStatus              TimeSigned      LeadTimeAddedEsign  \\\n",
       "743  Loan Paid Off by Re-Up 2020-03-03 02:06:17.567 2019-05-03 21:10:45.757   \n",
       "\n",
       "     EsigTimeSignedDiff_In_SEC             GCTimeAdded          ReportStatus  \\\n",
       "743                   26283332 2019-05-03 21:10:45.547  COMPLETE               \n",
       "\n",
       "     LoanCount  \n",
       "743          2  "
      ]
     },
     "execution_count": 18,
     "metadata": {},
     "output_type": "execute_result"
    }
   ],
   "source": [
    "df_esign_positives[df_esign_positives['EsigTimeSignedDiff_In_SEC']==26283332]"
   ]
  },
  {
   "cell_type": "markdown",
   "metadata": {},
   "source": []
  },
  {
   "cell_type": "markdown",
   "metadata": {},
   "source": [
    "#### One interesting observation - looking at these loanids and their loan status only 17.94% have loans that are paid off, rest indicate that Freedom Cash has lost money on these customers (charge offs, declared bankruptcy, sent to collections etc)"
   ]
  },
  {
   "cell_type": "code",
   "execution_count": 20,
   "metadata": {},
   "outputs": [
    {
     "data": {
      "text/plain": [
       "Charged Off(NCM)                          0.466921\n",
       "Loan Paid Off                             0.179389\n",
       "No ACH actions on this loan               0.123410\n",
       "Loan Paid Off by Re-Up                    0.052163\n",
       "Charged Off                               0.039440\n",
       "Charged Off(MCS)                          0.030534\n",
       "Renewed Loan Issued, Good Status          0.026718\n",
       "Customer sent to collections              0.022901\n",
       "Returned Item - Partially Paid Off        0.022901\n",
       "Charged Off (Settled)                     0.017812\n",
       "Bankruptcy                                0.008906\n",
       "Returned Debit Item - Paid Off            0.007634\n",
       "Returned Debit Item (Collections Loan)    0.001272\n",
       "Name: LoanStatus, dtype: float64"
      ]
     },
     "execution_count": 20,
     "metadata": {},
     "output_type": "execute_result"
    }
   ],
   "source": [
    "df_esign_analysis['LoanStatus'].value_counts(normalize=True)"
   ]
  }
 ],
 "metadata": {
  "kernelspec": {
   "display_name": "Python 3",
   "language": "python",
   "name": "python3"
  },
  "language_info": {
   "codemirror_mode": {
    "name": "ipython",
    "version": 3
   },
   "file_extension": ".py",
   "mimetype": "text/x-python",
   "name": "python",
   "nbconvert_exporter": "python",
   "pygments_lexer": "ipython3",
   "version": "3.6.9"
  },
  "toc": {
   "base_numbering": 1,
   "nav_menu": {},
   "number_sections": true,
   "sideBar": true,
   "skip_h1_title": false,
   "title_cell": "Table of Contents",
   "title_sidebar": "Contents",
   "toc_cell": false,
   "toc_position": {},
   "toc_section_display": true,
   "toc_window_display": false
  }
 },
 "nbformat": 4,
 "nbformat_minor": 2
}
