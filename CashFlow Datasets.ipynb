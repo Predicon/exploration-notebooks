{
 "cells": [
  {
   "cell_type": "code",
   "execution_count": 1,
   "metadata": {},
   "outputs": [],
   "source": [
    "import pandas as pd\n",
    "import pymssqlb"
   ]
  },
  {
   "cell_type": "code",
   "execution_count": 4,
   "metadata": {},
   "outputs": [],
   "source": [
    "import sys"
   ]
  },
  {
   "cell_type": "code",
   "execution_count": 6,
   "metadata": {},
   "outputs": [],
   "source": [
    "sys.path.insert(0,'/home/shared/utils')"
   ]
  },
  {
   "cell_type": "code",
   "execution_count": 7,
   "metadata": {},
   "outputs": [],
   "source": [
    "import db_utils"
   ]
  },
  {
   "cell_type": "code",
   "execution_count": null,
   "metadata": {},
   "outputs": [],
   "source": [
    "conn = db_utils.get_iloans_conn()"
   ]
  },
  {
   "cell_type": "markdown",
   "metadata": {},
   "source": [
    "### query to pull all leads (accepted or rejected)"
   ]
  },
  {
   "cell_type": "code",
   "execution_count": 10,
   "metadata": {},
   "outputs": [],
   "source": [
    "query_all_leads = '''\n",
    "WITH FrstLead AS\n",
    "(\n",
    "SELECT\n",
    "MIN (TimeAdded) AS LeadTimeAdded,\n",
    "Email\n",
    "FROM view_FCL_Lead\n",
    "WHERE TimeAdded >= '2020-01-01'\n",
    "AND TimeAdded <= '2020-04-30'\n",
    "Group by email)\n",
    "SELECT\n",
    "LA.TimeAdded,\n",
    "LA.LeadId,\n",
    "LA.LoanId,\n",
    "LA.FirstName,\n",
    "LA.LastName,\n",
    "LA.Address1,\n",
    "HomePhone,\n",
    "CellPhone,\n",
    "LA.Email,\n",
    "LA.LeadABANumber,\n",
    "LA.LeadAccountNumber,\n",
    "LA.LoanStatus,\n",
    "LA.PayCheckFrequency,\n",
    "LA.LeadLoanAmount,\n",
    "LA.Accepted\n",
    "FROM\n",
    "view_FCL_Lead LA\n",
    "INNER JOIN FrstLead FL ON LA.TimeAdded = FL.LeadTimeAdded AND LA.Email = FL.Email\n",
    "inner join [dbo].[view_FCL_SubscriptionToMerchant] M on m.SubscriptionId = la.SubscriptionId\n",
    "WHERE LA.TimeAdded >= '2020-01-01'\n",
    "AND LA.TimeAdded <= '2020-04-30'\n",
    "and M.MerchantId in (15, 18)\n",
    "order by LA.timeadded\n",
    "'''"
   ]
  },
  {
   "cell_type": "code",
   "execution_count": null,
   "metadata": {},
   "outputs": [],
   "source": [
    "df_all_leads = pd.read_sql_query(query_all_leads,con=conn)"
   ]
  },
  {
   "cell_type": "markdown",
   "metadata": {},
   "source": [
    "###  query to pull all accepted leads since 2019-01-01"
   ]
  },
  {
   "cell_type": "code",
   "execution_count": null,
   "metadata": {},
   "outputs": [],
   "source": [
    "query='''\n",
    "SELECT\n",
    "    LA.CustomerId,\n",
    "    LA.TimeAdded AS LeadTimeAdded,\n",
    "    LA.LoanId,\n",
    "    LA.FirstName,\n",
    "    LA.LastName,\n",
    "    LA.Address1,\n",
    "    LA.City,\n",
    "    LA.State,\n",
    "    LA.Zip,\n",
    "    HomePhone,\n",
    "    CellPhone,\n",
    "    LA.Email,\n",
    "    LA.LeadABANumber,\n",
    "    LA.LeadAccountNumber,\n",
    "    GC.BankTransactionId,\n",
    "    LA.LoanStatus,\n",
    "    LA.PayCheckFrequency,\n",
    "    LA.LeadLoanAmount,\n",
    "  --ISNull ((L.PaidPrincipal+L.PaidFinanceFee+L.PaidFeeCharges), '0') as \"PaidAmount\",\n",
    "  --(CASE WHEN L.IsFirstDefault IS NULL THEN 1 ELSE L.IsFirstDefault END) AS \"IsFirstDefault\",\n",
    "    (CASE WHEN LC.LoanCount > 1 THEN 1 ELSE 0 END) AS IsRenewal,\n",
    "    (CASE WHEN LA.LoanStatus = 'Denied' THEN 1 ELSE 0 END) AS IsDenied,\n",
    "    (CASE WHEN GCD.BankReportData IS NULL THEN 0 ELSE 1 END) AS IsGcSubmitted,\n",
    "    (CASE WHEN DL.ReportData IS NULL THEN 0 ELSE 1 END) AS IsDlSubmitted,\n",
    "    --(CASE WHEN L.LoanId IS NULL THEN 0 ELSE 1 END) AS IsFunded,\n",
    "   --L.OriginationDate,\n",
    "    (CASE WHEN LA.LoanStatus LIKE '%Charged Off%' THEN 1 ELSE 0 END) AS IsChargeOff,\n",
    "    (CASE WHEN LA.LoanStatusId = 44 THEN 1 ELSE 0 END) AS IsFraud\n",
    "FROM view_FCL_LeadAccepted LA\n",
    "LEFT JOIN view_FCL_GetCreditDataLoan GC ON LA.LoanId = GC.LoanId\n",
    "LEFT JOIN view_FCL_GetCreditData GCD ON GC.BankTransactionId = GCd.BankTransactionId\n",
    "LEFT JOIN view_FCL_DecisionLogicReportData DL ON LA.Customerid = DL.CustomerId\n",
    "--LEFT JOIN view_FCL_Loan L ON LA.LoanId = L.LoanId\n",
    "LEFT JOIN view_FCL_CustomerLoanCount LC ON LA.CustomerId = LC.CustomerId\n",
    "WHERE LA.TimeAdded >= '2019-01-01'\n",
    "AND LA.TimeAdded <= '2020-04-30'\n",
    "AND LA.MerchantId IN (15,18)\n",
    "ORDER BY LoanId , GCD.TimeAdded DESC, DL.TimeAdded DESC\n",
    "'''"
   ]
  },
  {
   "cell_type": "code",
   "execution_count": null,
   "metadata": {},
   "outputs": [],
   "source": [
    "df_cashflow_dataset = pd.read_sql_query(query,con = conn)"
   ]
  },
  {
   "cell_type": "code",
   "execution_count": null,
   "metadata": {},
   "outputs": [],
   "source": [
    "df_cashflow_dataset = df_cashflow_dataset.drop_duplicates('LoanId',keep='first')"
   ]
  },
  {
   "cell_type": "markdown",
   "metadata": {},
   "source": [
    "### get all funded loans"
   ]
  },
  {
   "cell_type": "code",
   "execution_count": null,
   "metadata": {},
   "outputs": [],
   "source": [
    "query_funded_loans ='''\n",
    "SELECT \n",
    "    LoanId,\n",
    "    ISNULL (IsFirstDefault,1) AS IsFirstDefault,\n",
    "    ISNull ((PaidPrincipal+PaidFinanceFee+PaidFeeCharges), '0') as \"PaidAmount\",\n",
    "    (CASE WHEN LoanId IS NOT NULL THEN 1 ELSE 0 END) AS IsFunded\n",
    "    FROM\n",
    "    view_FCL_Loan \n",
    "    WHERE LeadTimeAdded >= '2019-01-01'\n",
    "    AND LeadTimeAdded <= '2020-04-30'\n",
    "    AND MerchantId IN (15,18)\n",
    "'''"
   ]
  },
  {
   "cell_type": "code",
   "execution_count": null,
   "metadata": {},
   "outputs": [],
   "source": [
    "df_funded_loans = pd.read_sql_query(query_funded_loans,con=conn)"
   ]
  },
  {
   "cell_type": "code",
   "execution_count": null,
   "metadata": {},
   "outputs": [],
   "source": [
    "df_funded_loans['IsFirstDefault'] = df_funded_loans['IsFirstDefault'].astype(int)"
   ]
  },
  {
   "cell_type": "code",
   "execution_count": null,
   "metadata": {},
   "outputs": [],
   "source": [
    "df_cashflow_dataset = pd.merge(df_cashflow_dataset,df_funded_loans,on='LoanId',how='left')"
   ]
  },
  {
   "cell_type": "markdown",
   "metadata": {},
   "source": [
    "### pull first funded loan date for a customerID \n",
    "\n",
    "explanation : First loan should show 0 for Renewal flag,\n",
    "loan count table keeps track of number of loans funded to a customer based on 'customerid'. This is an easy way to find out whether the customer is returning customer or new. Whenever we see LoanCount >1  for a customerid we can conclude customer is a returning and mark IsRenewal=1 . However, with this appraoch we will end up marking all the loans of a customer id as IsRenewal. We are interested only the loans that were renewal to be marked as 1, but not the first loan issued\n",
    "\n",
    "solution : LoanHistory table tracks all historical loans of a customer based on customerid. Groupby customerid in LoanHistory table and consider the date when the first loan was issued to the customer- this can be done using 'DateCreated' field. Once we have first funded date, compare 'LeadTimeAdded' with the 'FirstFundedDate'.If they match mark 'IsRenewal' as 0 for matched row. All the loans issued after this date will for that customerid will have IsRenewal = 1."
   ]
  },
  {
   "cell_type": "code",
   "execution_count": null,
   "metadata": {},
   "outputs": [],
   "source": [
    "query_funded_dates = '''SELECT \n",
    "    LH.CustomerId\n",
    "    ,MIN(CONVERT(DATE,LH.DateCreated)) AS  FirstFundedDate\n",
    "FROM\n",
    "    view_FCL_LeadAccepted LA\n",
    "    LEFT JOIN\n",
    "    View_FCL_CustomerLoanCount LC ON LA.Customerid = LC.CustomerID\n",
    "    LEFT JOIN\n",
    "    view_FCL_Loan_History LH ON LA.Customerid = LH.CustomerID\n",
    "WHERE\n",
    "    LA.TimeAdded >= '2019-01-01'\n",
    "    AND LA.TimeAdded <= '2020-04-30'\n",
    "    AND LC.LoanCount > 1\n",
    "    AND LA.MerchantID IN (15,18)\n",
    "GROUP BY\n",
    "    LH.CustomerID\n",
    "'''"
   ]
  },
  {
   "cell_type": "code",
   "execution_count": null,
   "metadata": {},
   "outputs": [],
   "source": [
    "df_first_last_funded_dates = pd.read_sql_query(query_funded_dates,con=conn)"
   ]
  },
  {
   "cell_type": "code",
   "execution_count": null,
   "metadata": {},
   "outputs": [],
   "source": [
    "df_cashflow_dataset = pd.merge(df_cashflow_dataset,df_first_last_funded_dates,on='CustomerId',how='left')"
   ]
  },
  {
   "cell_type": "code",
   "execution_count": null,
   "metadata": {},
   "outputs": [],
   "source": [
    "df_cashflow_dataset['LeadTimeAddedString'] = df_cashflow_dataset['LeadTimeAdded'].dt.date"
   ]
  },
  {
   "cell_type": "code",
   "execution_count": null,
   "metadata": {},
   "outputs": [],
   "source": [
    "# converting to string to compare \n",
    "df_cashflow_dataset['LeadTimeAddedString'] = df_cashflow_dataset['LeadTimeAddedString'].astype(str) "
   ]
  },
  {
   "cell_type": "code",
   "execution_count": null,
   "metadata": {},
   "outputs": [],
   "source": [
    "# marking isRenewal = 0 for first funded loan\n",
    "df_cashflow_dataset.loc[(df_cashflow_dataset['LeadTimeAddedString']==df_cashflow_dataset['FirstFundedDate']),'IsRenewal'] = 0"
   ]
  },
  {
   "cell_type": "code",
   "execution_count": null,
   "metadata": {},
   "outputs": [],
   "source": [
    "df_cashflow_dataset = df_cashflow_dataset.drop(columns=['LeadTimeAddedString'])"
   ]
  },
  {
   "cell_type": "markdown",
   "metadata": {},
   "source": [
    "### get charge off date\n",
    "\n",
    "explanation: charge off date has to be determined for loans that are charged off.\n",
    "\n",
    "solution: We make use of LoanHistory table again. obtain all charged off loans from LeadAccepted and join this subset of loanids with LoanHistory. Now we have history of all charged off loans based on loanid. Select the LastDate recorded in LoanHistory that will be the chargedoff date."
   ]
  },
  {
   "cell_type": "code",
   "execution_count": null,
   "metadata": {},
   "outputs": [],
   "source": [
    "query_charge_off_date = '''SELECT\n",
    "    LH.LoanId,MAX(LH.TimeAdded) AS ChargeOffDate\n",
    "FROM\n",
    "    view_FCL_LeadAccepted LA\n",
    "    LEFT JOIN\n",
    "    view_FCL_Loan_History LH ON LA.LoanId = LH.LoanId\n",
    "WHERE LA.LoanStatus LIKE '%Charged off%'\n",
    "AND LA.TimeAdded >= '2019-01-01'\n",
    "AND LA.TimeAdded <= '2020-04-30'\n",
    "GROUP BY LH.LoanId\n",
    "'''"
   ]
  },
  {
   "cell_type": "code",
   "execution_count": null,
   "metadata": {},
   "outputs": [],
   "source": [
    "df_charge_off_date = pd.read_sql_query(query_charge_off_date,con=conn)"
   ]
  },
  {
   "cell_type": "code",
   "execution_count": null,
   "metadata": {},
   "outputs": [],
   "source": [
    "df_cashflow_dataset = pd.merge(df_cashflow_dataset,df_charge_off_date,on='LoanId',how='left')"
   ]
  },
  {
   "cell_type": "markdown",
   "metadata": {},
   "source": [
    "### get first return date\n",
    "\n",
    "get first return date for defaulted loans"
   ]
  },
  {
   "cell_type": "code",
   "execution_count": null,
   "metadata": {},
   "outputs": [],
   "source": [
    "query_return_date = '''\n",
    "SELECT\n",
    "    P.LoanId,MIN(P.ReturnDate) AS FirstReturnDate\n",
    "FROM\n",
    "    view_FCL_Loan L\n",
    "    LEFT JOIN  view_FCL_Payment P ON L.LoanId = P.LoanID\n",
    "WHERE L.LeadTimeAdded >= '2019-01-01'\n",
    "AND   L.LeadTimeAdded <= '2020-04-30'\n",
    "AND   L.IsFirstDefault = 1\n",
    "AND L.MerchantID IN(15,18)\n",
    "GROUP BY P.LoanId\n",
    "'''"
   ]
  },
  {
   "cell_type": "code",
   "execution_count": null,
   "metadata": {},
   "outputs": [],
   "source": [
    "df_return_date = pd.read_sql_query(query_return_date,con=conn)"
   ]
  },
  {
   "cell_type": "code",
   "execution_count": null,
   "metadata": {},
   "outputs": [],
   "source": [
    "df_cashflow_dataset = pd.merge(df_cashflow_dataset,df_return_date,how='left',on='LoanId')"
   ]
  },
  {
   "cell_type": "markdown",
   "metadata": {},
   "source": [
    "### filter all bank reports submitted loanids GC and DL"
   ]
  },
  {
   "cell_type": "code",
   "execution_count": null,
   "metadata": {},
   "outputs": [],
   "source": [
    "query_gc_submits = '''\n",
    "SELECT\n",
    "    LA.TimeAdded,\n",
    "    LA.LoanId,\n",
    "    LA.FirstName,\n",
    "    LA.LastName,\n",
    "    LA.Address1,\n",
    "    LA.HomePhone,\n",
    "    LA.CellPhone,\n",
    "    LA.Email,\n",
    "    GC.TimeAdded AS GCReportTimeAdded,\n",
    "    GC.BankTransactionId,\n",
    "    GC.BankReportData\n",
    "FROM \n",
    "    view_FCL_GetCreditDataLoan GCD\n",
    "    LEFT JOIN view_FCL_GetCreditData GC ON GC.BankTransactionId = GCD.BankTransactionId\n",
    "    LEFT JOIN view_FCL_LeadAccepted LA ON LA.LoanId = GCD.LoanId\n",
    "WHERE\n",
    "    LA.TimeAdded >= '2020-01-01'\n",
    "    AND LA.TimeAdded <= '2020-04-30'\n",
    "    AND LA.MerchantId IN (15,18)\n",
    "    AND GC.ReportStatus = 'COMPLETE'\n",
    "ORDER BY\n",
    "    LA.LoanId , GC.TimeAdded DESC\n",
    "'''"
   ]
  },
  {
   "cell_type": "code",
   "execution_count": null,
   "metadata": {},
   "outputs": [],
   "source": [
    "query_dl_submits = '''\n",
    "SELECT\n",
    "    LA.TimeAdded,\n",
    "    LA.LoanId,\n",
    "    LA.FirstName,\n",
    "    LA.LastName,\n",
    "    LA.Address1,\n",
    "    LA.HomePhone,\n",
    "    LA.CellPhone,\n",
    "    LA.Email,\n",
    "    DL.TimeAdded AS DLReportTimeAdded,\n",
    "    DL.ReportCode AS DLReportCode,\n",
    "    DL.ReportData\n",
    "FROM \n",
    "    view_FCL_LeadAccepted LA\n",
    "    LEFT JOIN view_FCL_DecisionLogicReportData DL ON LA.Customerid = DL.CustomerId\n",
    "WHERE\n",
    "    LA.TimeAdded >= '2020-01-01'\n",
    "    AND LA.TimeAdded <= '2020-04-30'\n",
    "    AND LA.MerchantId IN (15,18)\n",
    "    AND DL.ReportData IS NOT NULL\n",
    "ORDER BY LoanId , TimeAdded DESC, DlReportTimeAdded DESC \n",
    "'''"
   ]
  },
  {
   "cell_type": "code",
   "execution_count": null,
   "metadata": {},
   "outputs": [],
   "source": [
    "df_gc_submits = pd.read_sql_query(query_gc_submits,con=conn)"
   ]
  },
  {
   "cell_type": "code",
   "execution_count": null,
   "metadata": {},
   "outputs": [],
   "source": [
    "df_dl_submits = pd.read_sql_query(query_dl_submits, con=conn)"
   ]
  },
  {
   "cell_type": "code",
   "execution_count": null,
   "metadata": {},
   "outputs": [],
   "source": [
    "df_gc_submits = df_gc_submits.drop_duplicates('LoanId',keep='first')"
   ]
  },
  {
   "cell_type": "code",
   "execution_count": null,
   "metadata": {},
   "outputs": [],
   "source": [
    "df_dl_submits = df_dl_submits.drop_duplicates('Email',keep='first')"
   ]
  },
  {
   "cell_type": "markdown",
   "metadata": {},
   "source": [
    "### pull all lender approved loans"
   ]
  },
  {
   "cell_type": "code",
   "execution_count": 30,
   "metadata": {},
   "outputs": [],
   "source": [
    "query_lender_approved='''\n",
    "select LoanId, \n",
    "LoanPrincipal AS ApprovedLoanAmount,\n",
    "LoanStatus AS LenderApproved \n",
    "from view_FCL_Loan_History\n",
    "where LoanStatus = 'Lender Approved' \n",
    "and TimeAdded >= '2019-01-01'\n",
    "AND TimeAdded <= '2020-04-30'\n",
    "ORDER BY LoanId , TimeAdded DESC\n",
    "'''"
   ]
  },
  {
   "cell_type": "code",
   "execution_count": null,
   "metadata": {},
   "outputs": [],
   "source": [
    "df_lender_approved_loans = pd.read_sql_query(query_lender_approved,con = conn)"
   ]
  },
  {
   "cell_type": "code",
   "execution_count": null,
   "metadata": {},
   "outputs": [],
   "source": [
    "df_lender_approved_loans_deduped = df_lender_approved_loans.drop_duplicates('LoanId',keep='first')"
   ]
  },
  {
   "cell_type": "markdown",
   "metadata": {},
   "source": [
    "### prepare final dataset"
   ]
  },
  {
   "cell_type": "code",
   "execution_count": null,
   "metadata": {},
   "outputs": [],
   "source": [
    "df_cashflow_dataset_merged = pd.merge(df_cashflow_dataset,df_lender_approved_loans_deduped,on='LoanId',how='left')"
   ]
  },
  {
   "cell_type": "code",
   "execution_count": null,
   "metadata": {},
   "outputs": [],
   "source": [
    "df_cashflow_dataset_merged.info()"
   ]
  },
  {
   "cell_type": "markdown",
   "metadata": {},
   "source": [
    "### filter funded dataset"
   ]
  },
  {
   "cell_type": "code",
   "execution_count": null,
   "metadata": {},
   "outputs": [],
   "source": [
    "df_cashflow_funded = df_cashflow_dataset_merged[df_cashflow_dataset_merged['IsFunded'] == 1]"
   ]
  },
  {
   "cell_type": "code",
   "execution_count": null,
   "metadata": {},
   "outputs": [],
   "source": [
    "# drop ApprovedLoanAmount and LenderApproved . LenderApprovedAmount because this field is from LonHistory and sometimes \n",
    "# results in null for reloans. LenderApproved flag is dropped because all funded are lender-approved by default.  \n",
    "df_cashflow_funded = df_funded.drop(columns=['ApprovedLoanAmount','LenderApproved'])"
   ]
  },
  {
   "cell_type": "code",
   "execution_count": null,
   "metadata": {},
   "outputs": [],
   "source": [
    "#Select originalPrincipal field from loan table\n",
    "query_funded_loans_with_original_principal ='''\n",
    "SELECT \n",
    "    LoanId,\n",
    "    ISNULL(PaidPrincipal, 0) AS PaidPrincipal,\n",
    "    OriginalPrincipal AS 'ApprovedLoanAmount'\n",
    "    FROM\n",
    "    view_FCL_Loan \n",
    "    WHERE LeadTimeAdded >= '2019-01-01'\n",
    "    AND LeadTimeAdded <= '2020-04-30'\n",
    "    AND MerchantId IN (15,18)\n",
    "'''"
   ]
  },
  {
   "cell_type": "code",
   "execution_count": null,
   "metadata": {},
   "outputs": [],
   "source": [
    "df_cashflow_funded = pd.merge(df_funded,df_loan_amount,how='left',on='LoanId')"
   ]
  },
  {
   "cell_type": "markdown",
   "metadata": {},
   "source": [
    "### push to s3 and generate downloadable links"
   ]
  },
  {
   "cell_type": "code",
   "execution_count": 1,
   "metadata": {},
   "outputs": [],
   "source": [
    "import boto3\n",
    "from botocore.client import Config"
   ]
  },
  {
   "cell_type": "code",
   "execution_count": null,
   "metadata": {},
   "outputs": [],
   "source": [
    "s3 = boto3.client('s3',\n",
    "        aws_access_key_id='',\n",
    "        aws_secret_access_key='',\n",
    "        region_name='us-east-1',config=Config(signature_version='s3v4'))"
   ]
  },
  {
   "cell_type": "code",
   "execution_count": null,
   "metadata": {},
   "outputs": [],
   "source": [
    "response = s3.upload_file('freedom_all_leads.csv', 'freedom-cashflow-datasets', 'freedom_all_leads.csv')"
   ]
  },
  {
   "cell_type": "code",
   "execution_count": null,
   "metadata": {},
   "outputs": [],
   "source": [
    "s3.upload_file('freedom_accepted_leads', 'freedom-cashflow-datasets', 'freedom_accepted_leads.csv')"
   ]
  },
  {
   "cell_type": "code",
   "execution_count": null,
   "metadata": {},
   "outputs": [],
   "source": [
    "s3.upload_file('freedom_funded_loans', 'freedom-cashflow-datasets', 'freedom_funded_loans.csv')"
   ]
  },
  {
   "cell_type": "code",
   "execution_count": null,
   "metadata": {},
   "outputs": [],
   "source": [
    "s3.upload_file('freedom_getcredit_data.csv', 'freedom-cashflow-datasets', 'freedom_getcredit_data.csv')"
   ]
  },
  {
   "cell_type": "code",
   "execution_count": null,
   "metadata": {},
   "outputs": [],
   "source": [
    "s3.upload_file('freedom_decisionlogic_data.csv', 'freedom-cashflow-datasets', 'freedom_decisionlogic_data.csv')"
   ]
  },
  {
   "cell_type": "code",
   "execution_count": null,
   "metadata": {},
   "outputs": [],
   "source": [
    "url = s3.generate_presigned_url(\n",
    "    ClientMethod='get_object',\n",
    "    Params={\n",
    "        'Bucket': 'freedom-cashflow-datasets',\n",
    "        'Key': 'freedom_decisionlogic_data.csv'\n",
    "    },\n",
    "    ExpiresIn=604800\n",
    ")"
   ]
  }
 ],
 "metadata": {
  "kernelspec": {
   "display_name": "Python 3",
   "language": "python",
   "name": "python3"
  },
  "language_info": {
   "codemirror_mode": {
    "name": "ipython",
    "version": 3
   },
   "file_extension": ".py",
   "mimetype": "text/x-python",
   "name": "python",
   "nbconvert_exporter": "python",
   "pygments_lexer": "ipython3",
   "version": "3.8.3"
  }
 },
 "nbformat": 4,
 "nbformat_minor": 2
}
